{
 "cells": [
  {
   "cell_type": "code",
   "execution_count": 1,
   "id": "d695e665",
   "metadata": {},
   "outputs": [
    {
     "data": {
      "image/png": "[encoded data removed]",
      "text/plain": [
       "<IPython.core.display.Image object>"
      ]
     },
     "execution_count": 1,
     "metadata": {},
     "output_type": "execute_result"
    }
   ],
   "source": [
    "from IPython.display import Image\n",
    "Image(filename='Problem 1.png')"
   ]
  },
  {
   "cell_type": "markdown",
   "id": "6d2345ac",
   "metadata": {},
   "source": [
    "<font color = \"blue\">\n",
    "<font size = 5>\n",
    "1.1 What is the probability that a randomly chosen player would suffer an injury?"
   ]
  },
  {
   "cell_type": "code",
   "execution_count": 2,
   "id": "21bd031d",
   "metadata": {},
   "outputs": [
    {
     "data": {
      "text/plain": [
       "61.702127659574465"
      ]
     },
     "execution_count": 2,
     "metadata": {},
     "output_type": "execute_result"
    }
   ],
   "source": [
    "145/235*100"
   ]
  },
  {
   "cell_type": "code",
   "execution_count": 3,
   "id": "f576e493",
   "metadata": {},
   "outputs": [
    {
     "name": "stdout",
     "output_type": "stream",
     "text": [
      "Probability that a randomly chosen player would suffer an injury: 61.7%\n"
     ]
    }
   ],
   "source": [
    "print(f'Probability that a randomly chosen player would suffer an injury: {round((145/235*100),2)}%')"
   ]
  },
  {
   "cell_type": "markdown",
   "id": "5e8738c2",
   "metadata": {},
   "source": [
    "<font color = \"blue\">\n",
    "<font size = 5>\n",
    "1.2 What is the probability that a player is a forward or a winger?"
   ]
  },
  {
   "cell_type": "code",
   "execution_count": 4,
   "id": "e44623e1",
   "metadata": {},
   "outputs": [
    {
     "data": {
      "text/plain": [
       "52.34042553191489"
      ]
     },
     "execution_count": 4,
     "metadata": {},
     "output_type": "execute_result"
    }
   ],
   "source": [
    "(94+29)/235*100"
   ]
  },
  {
   "cell_type": "code",
   "execution_count": 5,
   "id": "6d825acf",
   "metadata": {},
   "outputs": [
    {
     "name": "stdout",
     "output_type": "stream",
     "text": [
      "Probability that a player is a forward or a winger: 52.34%\n"
     ]
    }
   ],
   "source": [
    "print(f'Probability that a player is a forward or a winger: {round(((94+29)/235*100),2)}%')"
   ]
  },
  {
   "cell_type": "markdown",
   "id": "4e390f5d",
   "metadata": {},
   "source": [
    "<font color = \"blue\">\n",
    "<font size = 5>\n",
    "1.3 What is the probability that a randomly chosen player plays in a striker position and has a foot injury?"
   ]
  },
  {
   "cell_type": "code",
   "execution_count": 6,
   "id": "1c75d2da",
   "metadata": {},
   "outputs": [
    {
     "data": {
      "text/plain": [
       "19.148936170212767"
      ]
     },
     "execution_count": 6,
     "metadata": {},
     "output_type": "execute_result"
    }
   ],
   "source": [
    "45/235*100"
   ]
  },
  {
   "cell_type": "code",
   "execution_count": 7,
   "id": "268c1aa0",
   "metadata": {},
   "outputs": [
    {
     "name": "stdout",
     "output_type": "stream",
     "text": [
      "Probability that a randomly chosen player plays in a striker position and has a foot injury: 19.15%\n"
     ]
    }
   ],
   "source": [
    "print(f'Probability that a randomly chosen player plays in a striker position and has a foot injury: {round((45/235*100),2)}%')"
   ]
  },
  {
   "cell_type": "markdown",
   "id": "b6421578",
   "metadata": {},
   "source": [
    "<font color = \"blue\">\n",
    "<font size = 5>\n",
    "1.4 What is the probability that a randomly chosen injured player is a striker?"
   ]
  },
  {
   "cell_type": "code",
   "execution_count": 8,
   "id": "5002fd46",
   "metadata": {},
   "outputs": [
    {
     "data": {
      "text/plain": [
       "31.03448275862069"
      ]
     },
     "execution_count": 8,
     "metadata": {},
     "output_type": "execute_result"
    }
   ],
   "source": [
    "45/145*100"
   ]
  },
  {
   "cell_type": "code",
   "execution_count": 9,
   "id": "bebc4f55",
   "metadata": {},
   "outputs": [
    {
     "name": "stdout",
     "output_type": "stream",
     "text": [
      "Probability that a randomly chosen injured player is a striker: 31.03%\n"
     ]
    }
   ],
   "source": [
    "print(f'Probability that a randomly chosen injured player is a striker: {round((45/145*100),2)}%')"
   ]
  },
  {
   "cell_type": "markdown",
   "id": "c12df24b",
   "metadata": {},
   "source": [
    "<font color = \"blue\">\n",
    "<font size = 5>\n",
    "1.5 What is the probability that a randomly chosen injured player is either a forward or an attacking midfielder?"
   ]
  },
  {
   "cell_type": "code",
   "execution_count": 10,
   "id": "1b271203",
   "metadata": {},
   "outputs": [
    {
     "data": {
      "text/plain": [
       "55.172413793103445"
      ]
     },
     "execution_count": 10,
     "metadata": {},
     "output_type": "execute_result"
    }
   ],
   "source": [
    "(56+24)/145*100"
   ]
  },
  {
   "cell_type": "code",
   "execution_count": 11,
   "id": "6d7c3dc0",
   "metadata": {},
   "outputs": [
    {
     "name": "stdout",
     "output_type": "stream",
     "text": [
      "Probability that a randomly chosen injured player is either a forward or an attacking midfielder: 55.17%\n"
     ]
    }
   ],
   "source": [
    "print(f'Probability that a randomly chosen injured player is either a forward or an attacking midfielder: {round(((56+24)/145*100),2)}%')"
   ]
  },
  {
   "cell_type": "code",
   "execution_count": 12,
   "id": "15955f09",
   "metadata": {},
   "outputs": [],
   "source": [
    "import numpy as np\n",
    "import scipy.stats as stats\n",
    "import pandas as pd\n",
    "import numpy as np\n",
    "import matplotlib.pyplot as plt\n",
    "import seaborn as sns\n",
    "%matplotlib inline"
   ]
  },
  {
   "cell_type": "markdown",
   "id": "cc21ddfe",
   "metadata": {},
   "source": [
    "<font color = \"blue\">\n",
    "<font size = 5>\n",
    "3. The breaking strength of gunny bags used for packaging cement is normally distributed with a mean of 5 kg per sq. centimeter and a standard deviation of 1.5 kg per sq. centimeter. The quality team of the cement company wants to know the following about the packaging material to better understand wastage or pilferage within the supply chain; Answer the questions below based on the given information."
   ]
  },
  {
   "cell_type": "code",
   "execution_count": 13,
   "id": "2cc4868d",
   "metadata": {},
   "outputs": [],
   "source": [
    "mean_strength = 5\n",
    "std_strength = 1.5"
   ]
  },
  {
   "cell_type": "markdown",
   "id": "c93e5daf",
   "metadata": {},
   "source": [
    "<font color = \"blue\">\n",
    "<font size = 5>\n",
    "3.1 What proportion of the gunny bags have a breaking strength less than 3.17 kg per sq cm?"
   ]
  },
  {
   "cell_type": "code",
   "execution_count": 14,
   "id": "7cc30d21",
   "metadata": {},
   "outputs": [],
   "source": [
    "x_bar = 3.17"
   ]
  },
  {
   "cell_type": "code",
   "execution_count": 15,
   "id": "4f25fa4c",
   "metadata": {},
   "outputs": [
    {
     "data": {
      "text/plain": [
       "11.12"
      ]
     },
     "execution_count": 15,
     "metadata": {},
     "output_type": "execute_result"
    }
   ],
   "source": [
    "round(stats.norm.cdf(x_bar,mean_strength,std_strength)*100,2)"
   ]
  },
  {
   "cell_type": "code",
   "execution_count": 16,
   "id": "ed031db8",
   "metadata": {},
   "outputs": [
    {
     "name": "stdout",
     "output_type": "stream",
     "text": [
      "Probability of the gunny bags have a breaking strength less than 3.17 kg per sq cm: 11.12%\n"
     ]
    }
   ],
   "source": [
    "print(f'Probability of the gunny bags have a breaking strength less than 3.17 kg per sq cm: {round(stats.norm.cdf(x_bar,mean_strength,std_strength)*100,2)}%')"
   ]
  },
  {
   "cell_type": "code",
   "execution_count": 17,
   "id": "ce7a6902",
   "metadata": {},
   "outputs": [
    {
     "data": {
      "text/plain": [
       "<matplotlib.lines.Line2D at 0x22359cfe710>"
      ]
     },
     "execution_count": 17,
     "metadata": {},
     "output_type": "execute_result"
    },
    {
     "data": {
      "image/png": "[encoded data removed]",
      "text/plain": [
       "<Figure size 500x500 with 1 Axes>"
      ]
     },
     "metadata": {},
     "output_type": "display_data"
    }
   ],
   "source": [
    "strength = np.random.normal(mean_strength,std_strength,10000)\n",
    "strength = np.sort(strength)\n",
    "strength_pdf = stats.norm.pdf(strength,mean_strength,std_strength)\n",
    "fig,axes = plt.subplots(figsize=(5,5))\n",
    "axes.plot(strength,strength_pdf)\n",
    "plt.fill_between(strength,strength_pdf,where=strength<x_bar,color = 'red',alpha=0.5) \n",
    "axes.set_title('Proportion of Breaking Strength being less than 3.17 kg per sq cm')\n",
    "axes.axvline(x = x_bar,linestyle = '--')"
   ]
  },
  {
   "cell_type": "markdown",
   "id": "a4b8feb0",
   "metadata": {},
   "source": [
    "<font color = \"blue\">\n",
    "<font size = 5>\n",
    "3.2 What proportion of the gunny bags have a breaking strength at least 3.6 kg per sq cm.?"
   ]
  },
  {
   "cell_type": "code",
   "execution_count": 18,
   "id": "0418c80d",
   "metadata": {},
   "outputs": [],
   "source": [
    "x_bar = 3.6"
   ]
  },
  {
   "cell_type": "code",
   "execution_count": 19,
   "id": "6b19f4aa",
   "metadata": {},
   "outputs": [
    {
     "data": {
      "text/plain": [
       "82.47"
      ]
     },
     "execution_count": 19,
     "metadata": {},
     "output_type": "execute_result"
    }
   ],
   "source": [
    "round((1-stats.norm.cdf(x_bar,mean_strength,std_strength))*100,2)"
   ]
  },
  {
   "cell_type": "code",
   "execution_count": 20,
   "id": "03a4efc9",
   "metadata": {},
   "outputs": [
    {
     "name": "stdout",
     "output_type": "stream",
     "text": [
      "Probability of the gunny bags have a breaking strength at least 3.6 kg per sq cm: 82.47%\n"
     ]
    }
   ],
   "source": [
    "print(f'Probability of the gunny bags have a breaking strength at least 3.6 kg per sq cm: {round((1-stats.norm.cdf(x_bar,mean_strength,std_strength))*100,2)}%')"
   ]
  },
  {
   "cell_type": "code",
   "execution_count": 21,
   "id": "665fcdf9",
   "metadata": {},
   "outputs": [
    {
     "data": {
      "text/plain": [
       "<matplotlib.lines.Line2D at 0x2235a4d7df0>"
      ]
     },
     "execution_count": 21,
     "metadata": {},
     "output_type": "execute_result"
    },
    {
     "data": {
      "image/png": "[encoded data removed]",
      "text/plain": [
       "<Figure size 500x500 with 1 Axes>"
      ]
     },
     "metadata": {},
     "output_type": "display_data"
    }
   ],
   "source": [
    "strength = np.random.normal(mean_strength,std_strength,10000)\n",
    "strength = np.sort(strength)\n",
    "strength_pdf = stats.norm.pdf(strength,mean_strength,std_strength)\n",
    "fig,axes = plt.subplots(figsize=(5,5))\n",
    "axes.plot(strength,strength_pdf)\n",
    "plt.fill_between(strength,strength_pdf,where=strength>x_bar,color = 'red',alpha=0.5)  \n",
    "axes.set_title('Proportion of Breaking Strength being atleast 3.6 kg per sq cm')\n",
    "axes.axvline(x = x_bar,linestyle = '--')"
   ]
  },
  {
   "cell_type": "markdown",
   "id": "4f63ac0b",
   "metadata": {},
   "source": [
    "<font color = \"blue\">\n",
    "<font size = 5>\n",
    "3.3 What proportion of the gunny bags have a breaking strength between 5 and 5.5 kg per sq cm.?"
   ]
  },
  {
   "cell_type": "code",
   "execution_count": 22,
   "id": "462edc0a",
   "metadata": {},
   "outputs": [],
   "source": [
    "x_bar1= 5\n",
    "x_bar2 = 5.5"
   ]
  },
  {
   "cell_type": "code",
   "execution_count": 23,
   "id": "da55e0f5",
   "metadata": {},
   "outputs": [
    {
     "data": {
      "text/plain": [
       "13.06"
      ]
     },
     "execution_count": 23,
     "metadata": {},
     "output_type": "execute_result"
    }
   ],
   "source": [
    "round((stats.norm.cdf(x_bar2,mean_strength,std_strength)-stats.norm.cdf(x_bar1,mean_strength,std_strength))*100,2)"
   ]
  },
  {
   "cell_type": "code",
   "execution_count": 24,
   "id": "c078b90a",
   "metadata": {},
   "outputs": [
    {
     "name": "stdout",
     "output_type": "stream",
     "text": [
      "Probability of the gunny bags have a breaking strength between 5 and 5.5 kg per sq cm: 13.06%\n"
     ]
    }
   ],
   "source": [
    "print(f'Probability of the gunny bags have a breaking strength between 5 and 5.5 kg per sq cm: {round((stats.norm.cdf(x_bar2,mean_strength,std_strength)-stats.norm.cdf(x_bar1,mean_strength,std_strength))*100,2)}%')"
   ]
  },
  {
   "cell_type": "code",
   "execution_count": 25,
   "id": "9049c917",
   "metadata": {},
   "outputs": [
    {
     "data": {
      "text/plain": [
       "<matplotlib.lines.Line2D at 0x2235a561de0>"
      ]
     },
     "execution_count": 25,
     "metadata": {},
     "output_type": "execute_result"
    },
    {
     "data": {
      "image/png": "[encoded data removed]",
      "text/plain": [
       "<Figure size 500x500 with 1 Axes>"
      ]
     },
     "metadata": {},
     "output_type": "display_data"
    }
   ],
   "source": [
    "strength = np.random.normal(mean_strength,std_strength,10000)\n",
    "strength = np.sort(strength)\n",
    "strength_pdf = stats.norm.pdf(strength,mean_strength,std_strength)\n",
    "fig,axes = plt.subplots(figsize=(5,5))\n",
    "axes.plot(strength,strength_pdf)\n",
    "plt.fill_between(strength,strength_pdf,where=(strength>x_bar1)&(strength<x_bar2),color = 'red',alpha=0.5) \n",
    "axes.set_title('Proportion of Breaking Strength between 5 and 5.5 kg per sq cm')\n",
    "axes.axvline(x = x_bar1,linestyle = '--')\n",
    "axes.axvline(x = x_bar2,linestyle = '--')"
   ]
  },
  {
   "cell_type": "markdown",
   "id": "8babdf08",
   "metadata": {},
   "source": [
    "<font color = \"blue\">\n",
    "<font size = 5>\n",
    "3.4 What proportion of the gunny bags have a breaking strength NOT between 3 and 7.5 kg per sq cm.?"
   ]
  },
  {
   "cell_type": "code",
   "execution_count": 26,
   "id": "4b81f55b",
   "metadata": {},
   "outputs": [],
   "source": [
    "x_bar1= 3\n",
    "x_bar2 = 7.5"
   ]
  },
  {
   "cell_type": "code",
   "execution_count": 27,
   "id": "17710380",
   "metadata": {},
   "outputs": [
    {
     "data": {
      "text/plain": [
       "13.9"
      ]
     },
     "execution_count": 27,
     "metadata": {},
     "output_type": "execute_result"
    }
   ],
   "source": [
    "round((1-(stats.norm.cdf(x_bar2,mean_strength,std_strength)-stats.norm.cdf(x_bar1,mean_strength,std_strength)))*100,2)"
   ]
  },
  {
   "cell_type": "code",
   "execution_count": 28,
   "id": "5c0b6d5b",
   "metadata": {},
   "outputs": [
    {
     "name": "stdout",
     "output_type": "stream",
     "text": [
      "Probability of the gunny bags have a breaking strength NOT between 3 and 7.5 kg per sq cm: 13.9%\n"
     ]
    }
   ],
   "source": [
    "print(f'Probability of the gunny bags have a breaking strength NOT between 3 and 7.5 kg per sq cm: {round((1-(stats.norm.cdf(x_bar2,mean_strength,std_strength)-stats.norm.cdf(x_bar1,mean_strength,std_strength)))*100,2)}%')"
   ]
  },
  {
   "cell_type": "code",
   "execution_count": 29,
   "id": "33de9bea",
   "metadata": {},
   "outputs": [
    {
     "data": {
      "text/plain": [
       "<matplotlib.lines.Line2D at 0x2235a5e3d90>"
      ]
     },
     "execution_count": 29,
     "metadata": {},
     "output_type": "execute_result"
    },
    {
     "data": {
      "image/png": "[encoded data removed]",
      "text/plain": [
       "<Figure size 500x500 with 1 Axes>"
      ]
     },
     "metadata": {},
     "output_type": "display_data"
    }
   ],
   "source": [
    "strength = np.random.normal(mean_strength,std_strength,10000)\n",
    "strength = np.sort(strength)\n",
    "strength_pdf = stats.norm.pdf(strength,mean_strength,std_strength)\n",
    "fig,axes = plt.subplots(figsize=(5,5))\n",
    "axes.plot(strength,strength_pdf) \n",
    "plt.fill_between(strength,strength_pdf,where=strength>x_bar2,color = 'red',alpha=0.5) \n",
    "plt.fill_between(strength,strength_pdf,where=strength<x_bar1,color = 'red',alpha=0.5)\n",
    "axes.set_title('Proportion of Breaking Strength Not between 3 and 7.5 kg per sq cm')\n",
    "axes.axvline(x = x_bar1,linestyle = '--')\n",
    "axes.axvline(x = x_bar2,linestyle = '--')"
   ]
  },
  {
   "cell_type": "markdown",
   "id": "f9a739ca",
   "metadata": {},
   "source": [
    "<font color = \"blue\">\n",
    "<font size = 5>\n",
    "4. Grades of the final examination in a training course are found to be normally distributed, with a mean of 77 and a standard deviation of 8.5. Based on the given information answer the questions below."
   ]
  },
  {
   "cell_type": "code",
   "execution_count": 30,
   "id": "bc0492c9",
   "metadata": {},
   "outputs": [],
   "source": [
    "mean_mark = 77\n",
    "std_mark = 8.5"
   ]
  },
  {
   "cell_type": "markdown",
   "id": "ae5cf1e5",
   "metadata": {},
   "source": [
    "<font color = \"blue\">\n",
    "<font size = 5>\n",
    "4.1 What is the probability that a randomly chosen student gets a grade below 85 on this exam?"
   ]
  },
  {
   "cell_type": "code",
   "execution_count": 31,
   "id": "99e7280b",
   "metadata": {},
   "outputs": [],
   "source": [
    "x_bar = 85"
   ]
  },
  {
   "cell_type": "code",
   "execution_count": 32,
   "id": "62ff53f3",
   "metadata": {},
   "outputs": [
    {
     "data": {
      "text/plain": [
       "82.67"
      ]
     },
     "execution_count": 32,
     "metadata": {},
     "output_type": "execute_result"
    }
   ],
   "source": [
    "round(stats.norm.cdf(x_bar,mean_mark,std_mark)*100,2)"
   ]
  },
  {
   "cell_type": "code",
   "execution_count": 33,
   "id": "872cf01a",
   "metadata": {},
   "outputs": [
    {
     "name": "stdout",
     "output_type": "stream",
     "text": [
      "Probability that a randomly chosen student gets a grade below 85 on this exam: 82.67%\n"
     ]
    }
   ],
   "source": [
    "print(f'Probability that a randomly chosen student gets a grade below 85 on this exam: {round(stats.norm.cdf(x_bar,mean_mark,std_mark)*100,2)}%')"
   ]
  },
  {
   "cell_type": "code",
   "execution_count": 34,
   "id": "237dcff8",
   "metadata": {},
   "outputs": [
    {
     "data": {
      "text/plain": [
       "<matplotlib.lines.Line2D at 0x2235b6566e0>"
      ]
     },
     "execution_count": 34,
     "metadata": {},
     "output_type": "execute_result"
    },
    {
     "data": {
      "image/png": "[encoded data removed]",
      "text/plain": [
       "<Figure size 500x500 with 1 Axes>"
      ]
     },
     "metadata": {},
     "output_type": "display_data"
    }
   ],
   "source": [
    "mark = np.random.normal(mean_mark,std_mark,10000)\n",
    "mark = np.sort(mark)\n",
    "mark_pdf = stats.norm.pdf(mark,mean_mark,std_mark)\n",
    "fig,axes = plt.subplots(figsize=(5,5))\n",
    "axes.plot(mark,mark_pdf)\n",
    "plt.fill_between(mark,mark_pdf,where=mark<x_bar,color = 'red',alpha=0.5) \n",
    "axes.set_title('Proportion of Students getting Grade being less than 85')\n",
    "axes.axvline(x = x_bar,linestyle = '--')"
   ]
  },
  {
   "cell_type": "markdown",
   "id": "d534b072",
   "metadata": {},
   "source": [
    "<font color = \"blue\">\n",
    "<font size = 5>\n",
    "4.2 What is the probability that a randomly selected student scores between 65 and 87?"
   ]
  },
  {
   "cell_type": "code",
   "execution_count": 35,
   "id": "77d67bf3",
   "metadata": {},
   "outputs": [],
   "source": [
    "x_bar1= 65\n",
    "x_bar2 = 87"
   ]
  },
  {
   "cell_type": "code",
   "execution_count": 36,
   "id": "31adb833",
   "metadata": {},
   "outputs": [
    {
     "data": {
      "text/plain": [
       "80.13"
      ]
     },
     "execution_count": 36,
     "metadata": {},
     "output_type": "execute_result"
    }
   ],
   "source": [
    "round((stats.norm.cdf(x_bar2,mean_mark,std_mark)-stats.norm.cdf(x_bar1,mean_mark,std_mark))*100,2)"
   ]
  },
  {
   "cell_type": "code",
   "execution_count": 37,
   "id": "377ccad1",
   "metadata": {},
   "outputs": [
    {
     "name": "stdout",
     "output_type": "stream",
     "text": [
      "Probability that a randomly selected student scores between 65 and 87: 80.13%\n"
     ]
    }
   ],
   "source": [
    "print(f'Probability that a randomly selected student scores between 65 and 87: {round((stats.norm.cdf(x_bar2,mean_mark,std_mark)-stats.norm.cdf(x_bar1,mean_mark,std_mark))*100,2)}%')"
   ]
  },
  {
   "cell_type": "code",
   "execution_count": 38,
   "id": "09a1e096",
   "metadata": {},
   "outputs": [
    {
     "data": {
      "text/plain": [
       "<matplotlib.lines.Line2D at 0x2235b6cb970>"
      ]
     },
     "execution_count": 38,
     "metadata": {},
     "output_type": "execute_result"
    },
    {
     "data": {
      "image/png": "[encoded data removed]",
      "text/plain": [
       "<Figure size 500x500 with 1 Axes>"
      ]
     },
     "metadata": {},
     "output_type": "display_data"
    }
   ],
   "source": [
    "mark = np.random.normal(mean_mark,std_mark,10000)\n",
    "mark = np.sort(mark)\n",
    "mark_pdf = stats.norm.pdf(mark,mean_mark,std_mark)\n",
    "fig,axes = plt.subplots(figsize=(5,5))\n",
    "axes.plot(mark,mark_pdf)\n",
    "plt.fill_between(mark,mark_pdf,where=(mark<x_bar2)&(mark>x_bar1),color = 'red',alpha=0.5) \n",
    "axes.set_title('Proportion of Students getting Grade Between 65 and 87')\n",
    "axes.axvline(x = x_bar1,linestyle = '--')\n",
    "axes.axvline(x = x_bar2,linestyle = '--')"
   ]
  },
  {
   "cell_type": "markdown",
   "id": "c77cf3db",
   "metadata": {},
   "source": [
    "<font color = \"blue\">\n",
    "<font size = 5>\n",
    "4.3 What should be the passing cut-off so that 75% of the students clear the exam?"
   ]
  },
  {
   "cell_type": "code",
   "execution_count": 39,
   "id": "7169ad16",
   "metadata": {},
   "outputs": [
    {
     "data": {
      "text/plain": [
       "71.27"
      ]
     },
     "execution_count": 39,
     "metadata": {},
     "output_type": "execute_result"
    }
   ],
   "source": [
    "round(stats.norm.ppf(1-0.75,mean_mark,std_mark),2)"
   ]
  },
  {
   "cell_type": "code",
   "execution_count": 40,
   "id": "89bf6624",
   "metadata": {},
   "outputs": [
    {
     "name": "stdout",
     "output_type": "stream",
     "text": [
      "Passing cut-off so that 75% of the students clear the exam: 71.27\n"
     ]
    }
   ],
   "source": [
    "print(f'Passing cut-off so that 75% of the students clear the exam: {round(stats.norm.ppf(1-0.75,mean_mark,std_mark),2)}')"
   ]
  },
  {
   "cell_type": "code",
   "execution_count": 41,
   "id": "b2c8ac32",
   "metadata": {},
   "outputs": [
    {
     "data": {
      "text/plain": [
       "<matplotlib.lines.Line2D at 0x2235b86feb0>"
      ]
     },
     "execution_count": 41,
     "metadata": {},
     "output_type": "execute_result"
    },
    {
     "data": {
      "image/png": "[encoded data removed]",
      "text/plain": [
       "<Figure size 500x500 with 1 Axes>"
      ]
     },
     "metadata": {},
     "output_type": "display_data"
    }
   ],
   "source": [
    "mark = np.random.normal(mean_mark,std_mark,10000)\n",
    "mark = np.sort(mark)\n",
    "mark_pdf = stats.norm.pdf(mark,mean_mark,std_mark)\n",
    "fig,axes = plt.subplots(figsize=(5,5))\n",
    "axes.plot(mark,mark_pdf)\n",
    "plt.fill_between(mark,mark_pdf,where=mark>71.27,color = 'red',alpha=0.5) \n",
    "axes.set_title('Passing Region for 75% of Students Clearing the exam')\n",
    "axes.axvline(x = 71.27,linestyle = '--')"
   ]
  },
  {
   "cell_type": "markdown",
   "id": "caf8c482",
   "metadata": {},
   "source": [
    "<font color = \"blue\">\n",
    "<font size = 5>\n",
    "5. Zingaro stone printing is a company that specializes in printing images or patterns on polished or unpolished stones. However, for the optimum level of printing of the image the stone surface has to have a Brinell's hardness index of at least 150. Recently, Zingaro has received a batch of polished and unpolished stones from its clients. Use the data provided to answer the following (assuming a 5% significance level);"
   ]
  },
  {
   "cell_type": "markdown",
   "id": "28ca35f3",
   "metadata": {},
   "source": [
    "<font color = \"blue\">\n",
    "<font size = 5>\n",
    "5.1 Earlier experience of Zingaro with this particular client is favorable as the stone surface was found to be of adequate hardness. However, Zingaro has reason to believe now that the unpolished stones may not be suitable for printing. Do you think Zingaro is justified in thinking so?"
   ]
  },
  {
   "cell_type": "code",
   "execution_count": 42,
   "id": "389f6d8a",
   "metadata": {},
   "outputs": [],
   "source": [
    "df = pd.read_csv(\"Zingaro_Company.csv\")"
   ]
  },
  {
   "cell_type": "code",
   "execution_count": 43,
   "id": "910146d0",
   "metadata": {},
   "outputs": [
    {
     "data": {
      "text/html": [
       "<div>\n",
       "<style scoped>\n",
       "    .dataframe tbody tr th:only-of-type {\n",
       "        vertical-align: middle;\n",
       "    }\n",
       "\n",
       "    .dataframe tbody tr th {\n",
       "        vertical-align: top;\n",
       "    }\n",
       "\n",
       "    .dataframe thead th {\n",
       "        text-align: right;\n",
       "    }\n",
       "</style>\n",
       "<table border=\"1\" class=\"dataframe\">\n",
       "  <thead>\n",
       "    <tr style=\"text-align: right;\">\n",
       "      <th></th>\n",
       "      <th>Unpolished</th>\n",
       "      <th>Treated and Polished</th>\n",
       "    </tr>\n",
       "  </thead>\n",
       "  <tbody>\n",
       "    <tr>\n",
       "      <th>0</th>\n",
       "      <td>164.481713</td>\n",
       "      <td>133.209393</td>\n",
       "    </tr>\n",
       "    <tr>\n",
       "      <th>1</th>\n",
       "      <td>154.307045</td>\n",
       "      <td>138.482771</td>\n",
       "    </tr>\n",
       "    <tr>\n",
       "      <th>2</th>\n",
       "      <td>129.861048</td>\n",
       "      <td>159.665201</td>\n",
       "    </tr>\n",
       "    <tr>\n",
       "      <th>3</th>\n",
       "      <td>159.096184</td>\n",
       "      <td>145.663528</td>\n",
       "    </tr>\n",
       "    <tr>\n",
       "      <th>4</th>\n",
       "      <td>135.256748</td>\n",
       "      <td>136.789227</td>\n",
       "    </tr>\n",
       "  </tbody>\n",
       "</table>\n",
       "</div>"
      ],
      "text/plain": [
       "   Unpolished   Treated and Polished\n",
       "0   164.481713            133.209393\n",
       "1   154.307045            138.482771\n",
       "2   129.861048            159.665201\n",
       "3   159.096184            145.663528\n",
       "4   135.256748            136.789227"
      ]
     },
     "execution_count": 43,
     "metadata": {},
     "output_type": "execute_result"
    }
   ],
   "source": [
    "df.head()"
   ]
  },
  {
   "cell_type": "code",
   "execution_count": 44,
   "id": "4e63afb3",
   "metadata": {},
   "outputs": [
    {
     "name": "stdout",
     "output_type": "stream",
     "text": [
      "<class 'pandas.core.frame.DataFrame'>\n",
      "RangeIndex: 75 entries, 0 to 74\n",
      "Data columns (total 2 columns):\n",
      " #   Column                Non-Null Count  Dtype  \n",
      "---  ------                --------------  -----  \n",
      " 0   Unpolished            75 non-null     float64\n",
      " 1   Treated and Polished  75 non-null     float64\n",
      "dtypes: float64(2)\n",
      "memory usage: 1.3 KB\n"
     ]
    }
   ],
   "source": [
    "df.info()"
   ]
  },
  {
   "cell_type": "code",
   "execution_count": 45,
   "id": "87c94582",
   "metadata": {},
   "outputs": [
    {
     "data": {
      "text/html": [
       "<div>\n",
       "<style scoped>\n",
       "    .dataframe tbody tr th:only-of-type {\n",
       "        vertical-align: middle;\n",
       "    }\n",
       "\n",
       "    .dataframe tbody tr th {\n",
       "        vertical-align: top;\n",
       "    }\n",
       "\n",
       "    .dataframe thead th {\n",
       "        text-align: right;\n",
       "    }\n",
       "</style>\n",
       "<table border=\"1\" class=\"dataframe\">\n",
       "  <thead>\n",
       "    <tr style=\"text-align: right;\">\n",
       "      <th></th>\n",
       "      <th>Unpolished</th>\n",
       "      <th>Treated and Polished</th>\n",
       "    </tr>\n",
       "  </thead>\n",
       "  <tbody>\n",
       "    <tr>\n",
       "      <th>count</th>\n",
       "      <td>75.000000</td>\n",
       "      <td>75.000000</td>\n",
       "    </tr>\n",
       "    <tr>\n",
       "      <th>mean</th>\n",
       "      <td>134.110527</td>\n",
       "      <td>147.788117</td>\n",
       "    </tr>\n",
       "    <tr>\n",
       "      <th>std</th>\n",
       "      <td>33.041804</td>\n",
       "      <td>15.587355</td>\n",
       "    </tr>\n",
       "    <tr>\n",
       "      <th>min</th>\n",
       "      <td>48.406838</td>\n",
       "      <td>107.524167</td>\n",
       "    </tr>\n",
       "    <tr>\n",
       "      <th>25%</th>\n",
       "      <td>115.329753</td>\n",
       "      <td>138.268300</td>\n",
       "    </tr>\n",
       "    <tr>\n",
       "      <th>50%</th>\n",
       "      <td>135.597121</td>\n",
       "      <td>145.721322</td>\n",
       "    </tr>\n",
       "    <tr>\n",
       "      <th>75%</th>\n",
       "      <td>158.215098</td>\n",
       "      <td>157.373318</td>\n",
       "    </tr>\n",
       "    <tr>\n",
       "      <th>max</th>\n",
       "      <td>200.161313</td>\n",
       "      <td>192.272856</td>\n",
       "    </tr>\n",
       "  </tbody>\n",
       "</table>\n",
       "</div>"
      ],
      "text/plain": [
       "       Unpolished   Treated and Polished\n",
       "count    75.000000             75.000000\n",
       "mean    134.110527            147.788117\n",
       "std      33.041804             15.587355\n",
       "min      48.406838            107.524167\n",
       "25%     115.329753            138.268300\n",
       "50%     135.597121            145.721322\n",
       "75%     158.215098            157.373318\n",
       "max     200.161313            192.272856"
      ]
     },
     "execution_count": 45,
     "metadata": {},
     "output_type": "execute_result"
    }
   ],
   "source": [
    "df.describe()"
   ]
  },
  {
   "cell_type": "code",
   "execution_count": 46,
   "id": "a97767fb",
   "metadata": {},
   "outputs": [
    {
     "data": {
      "text/plain": [
       "Unpolished              0\n",
       "Treated and Polished    0\n",
       "dtype: int64"
      ]
     },
     "execution_count": 46,
     "metadata": {},
     "output_type": "execute_result"
    }
   ],
   "source": [
    "df.isnull().sum()"
   ]
  },
  {
   "cell_type": "code",
   "execution_count": 47,
   "id": "bbf2a7b8",
   "metadata": {},
   "outputs": [
    {
     "data": {
      "text/plain": [
       "Text(0.5, 1.0, 'Distribution of the Treated and Polished')"
      ]
     },
     "execution_count": 47,
     "metadata": {},
     "output_type": "execute_result"
    },
    {
     "data": {
      "image/png": "[encoded data removed]",
      "text/plain": [
       "<Figure size 2000x1000 with 2 Axes>"
      ]
     },
     "metadata": {},
     "output_type": "display_data"
    }
   ],
   "source": [
    "fig,axes = plt.subplots(ncols=2,figsize=(20,10))\n",
    "sns.histplot(df['Unpolished '],ax=axes[0],kde=True)\n",
    "sns.histplot(df['Treated and Polished'],ax=axes[1],kde=True)\n",
    "axes[0].set_title('Distribution of the Unpolished')\n",
    "axes[1].set_title('Distribution of the Treated and Polished')"
   ]
  },
  {
   "cell_type": "markdown",
   "id": "c24beab8",
   "metadata": {},
   "source": [
    "#### H0: The data is Normally Distributed.\n",
    "#### H1: The data is not normally distributed."
   ]
  },
  {
   "cell_type": "code",
   "execution_count": 48,
   "id": "8a5c990e",
   "metadata": {},
   "outputs": [
    {
     "data": {
      "text/plain": [
       "ShapiroResult(statistic=0.9875666499137878, pvalue=0.6777291297912598)"
      ]
     },
     "execution_count": 48,
     "metadata": {},
     "output_type": "execute_result"
    }
   ],
   "source": [
    "stats.shapiro(df['Unpolished '])"
   ]
  },
  {
   "cell_type": "code",
   "execution_count": 49,
   "id": "fe9fb85b",
   "metadata": {},
   "outputs": [
    {
     "data": {
      "text/plain": [
       "False"
      ]
     },
     "execution_count": 49,
     "metadata": {},
     "output_type": "execute_result"
    }
   ],
   "source": [
    "0.6777291297912598 < 0.05"
   ]
  },
  {
   "cell_type": "markdown",
   "id": "884bac85",
   "metadata": {},
   "source": [
    "do not Reject Null Hypothesis"
   ]
  },
  {
   "cell_type": "code",
   "execution_count": 50,
   "id": "f4600621",
   "metadata": {},
   "outputs": [
    {
     "data": {
      "text/plain": [
       "ShapiroResult(statistic=0.9812452793121338, pvalue=0.33139768242836)"
      ]
     },
     "execution_count": 50,
     "metadata": {},
     "output_type": "execute_result"
    }
   ],
   "source": [
    "stats.shapiro(df['Treated and Polished'])"
   ]
  },
  {
   "cell_type": "code",
   "execution_count": 51,
   "id": "94df1e8d",
   "metadata": {},
   "outputs": [
    {
     "data": {
      "text/plain": [
       "False"
      ]
     },
     "execution_count": 51,
     "metadata": {},
     "output_type": "execute_result"
    }
   ],
   "source": [
    "0.33139768242836 < 0.05"
   ]
  },
  {
   "cell_type": "markdown",
   "id": "5342cc17",
   "metadata": {},
   "source": [
    "do not Reject Null Hypothesis"
   ]
  },
  {
   "cell_type": "code",
   "execution_count": 52,
   "id": "58c8650f",
   "metadata": {},
   "outputs": [
    {
     "data": {
      "text/plain": [
       "<Axes: xlabel='Treated and Polished'>"
      ]
     },
     "execution_count": 52,
     "metadata": {},
     "output_type": "execute_result"
    },
    {
     "data": {
      "image/png": "[encoded data removed]",
      "text/plain": [
       "<Figure size 1000x1000 with 2 Axes>"
      ]
     },
     "metadata": {},
     "output_type": "display_data"
    }
   ],
   "source": [
    "fig,axes = plt.subplots(nrows=2,figsize=(10,10))\n",
    "sns.boxplot(x = df['Unpolished '],ax=axes[0])\n",
    "sns.boxplot(x = df['Treated and Polished'],ax=axes[1])"
   ]
  },
  {
   "cell_type": "code",
   "execution_count": 53,
   "id": "24f44a48",
   "metadata": {},
   "outputs": [],
   "source": [
    "mean_stone = df[\"Unpolished \"].mean()\n",
    "std_stone = df[\"Unpolished \"].std()"
   ]
  },
  {
   "cell_type": "markdown",
   "id": "ba9023d7",
   "metadata": {},
   "source": [
    "#### H0: The Unpolished Stone has Brinell's hardness index of at least 150 ~ µ >= 150\n",
    "#### H1: The Unpolished Stone doesn't have Brinell's hardness index of at least 150 ~ µ < 150"
   ]
  },
  {
   "cell_type": "code",
   "execution_count": 54,
   "id": "e7587473",
   "metadata": {},
   "outputs": [
    {
     "data": {
      "text/plain": [
       "134.11052653373332"
      ]
     },
     "execution_count": 54,
     "metadata": {},
     "output_type": "execute_result"
    }
   ],
   "source": [
    "mean_stone"
   ]
  },
  {
   "cell_type": "code",
   "execution_count": 55,
   "id": "53ce2b4e",
   "metadata": {},
   "outputs": [
    {
     "data": {
      "text/plain": [
       "33.0418044136061"
      ]
     },
     "execution_count": 55,
     "metadata": {},
     "output_type": "execute_result"
    }
   ],
   "source": [
    "std_stone"
   ]
  },
  {
   "cell_type": "code",
   "execution_count": 56,
   "id": "148ca6f7",
   "metadata": {},
   "outputs": [],
   "source": [
    "from scipy.stats import ttest_1samp, ttest_ind"
   ]
  },
  {
   "cell_type": "markdown",
   "id": "87a2dd88",
   "metadata": {},
   "source": [
    "The level of significance (Alpha ) = 0.05.\n",
    "\n",
    "But since the population standard deviation (Sigma) is unknown, we have to use a Tstat test.\n",
    "\n",
    "Degree of Freedom: Since the sample is the same for both Sampling tests, we have N-1 degrees of freedom : 74\n",
    "\n",
    "Since the sole purpose of the test is to check whether the unpolished stones may not be suitable for printing i.e it should have Brinell's hardness index of at least 150, we would prefer a One-sided T-test."
   ]
  },
  {
   "cell_type": "code",
   "execution_count": 57,
   "id": "13723aee",
   "metadata": {},
   "outputs": [
    {
     "data": {
      "text/plain": [
       "TtestResult(statistic=-4.164629601426757, pvalue=4.171286997419652e-05, df=74)"
      ]
     },
     "execution_count": 57,
     "metadata": {},
     "output_type": "execute_result"
    }
   ],
   "source": [
    "ttest_1samp(df[\"Unpolished \"], 150,alternative=\"less\")"
   ]
  },
  {
   "cell_type": "markdown",
   "id": "a6b1ba77",
   "metadata": {},
   "source": [
    "##### Manual"
   ]
  },
  {
   "cell_type": "code",
   "execution_count": 58,
   "id": "bf6b8cc3",
   "metadata": {},
   "outputs": [
    {
     "name": "stdout",
     "output_type": "stream",
     "text": [
      "T stat:-4.164629601426758\n",
      "P Value:4.1712869974196425e-05\n"
     ]
    }
   ],
   "source": [
    "n = 75\n",
    "x_bar = mean_stone\n",
    "sg = std_stone\n",
    "mu = 150\n",
    "test_stat = (x_bar - mu) / (sg/np.sqrt(n))\n",
    "print(f\"T stat:{test_stat}\")\n",
    "p = stats.t.cdf(test_stat,n-1)\n",
    "print(f\"P Value:{p}\")"
   ]
  },
  {
   "cell_type": "code",
   "execution_count": 59,
   "id": "5aa70bfe",
   "metadata": {},
   "outputs": [
    {
     "data": {
      "text/plain": [
       "True"
      ]
     },
     "execution_count": 59,
     "metadata": {},
     "output_type": "execute_result"
    }
   ],
   "source": [
    "4.171286997419652e-05 < 0.05"
   ]
  },
  {
   "cell_type": "markdown",
   "id": "21d21350",
   "metadata": {},
   "source": [
    "### Reject Null hypothesis"
   ]
  },
  {
   "cell_type": "markdown",
   "id": "81151301",
   "metadata": {},
   "source": [
    "<font color = \"blue\">\n",
    "<font size = 5>\n",
    "5.2 Is the mean hardness of the polished and unpolished stones the same?"
   ]
  },
  {
   "cell_type": "markdown",
   "id": "23f84263",
   "metadata": {},
   "source": [
    "#### H0: The Unpolished and Polished Stones has same mean hardness ~ µ(Unpolished) = µ(polished)\n",
    "#### H1: The Unpolished and Polished Stones doesn't have same mean hardness ~ µ(Unpolished) ≠ µ(polished)"
   ]
  },
  {
   "cell_type": "code",
   "execution_count": 60,
   "id": "793ce013",
   "metadata": {},
   "outputs": [
    {
     "name": "stdout",
     "output_type": "stream",
     "text": [
      "tstat -3.2422320501414053\n",
      "P Value 0.0014655150194628353\n"
     ]
    }
   ],
   "source": [
    "t_statistic, p_value  = ttest_ind(df[\"Unpolished \"],df[\"Treated and Polished\"])\n",
    "print('tstat',t_statistic)    \n",
    "print('P Value',p_value) "
   ]
  },
  {
   "cell_type": "code",
   "execution_count": 61,
   "id": "04b7048c",
   "metadata": {},
   "outputs": [
    {
     "data": {
      "text/plain": [
       "True"
      ]
     },
     "execution_count": 61,
     "metadata": {},
     "output_type": "execute_result"
    }
   ],
   "source": [
    "0.0014655150194628353 < 0.05"
   ]
  },
  {
   "cell_type": "markdown",
   "id": "5002056b",
   "metadata": {},
   "source": [
    "### Reject Null Hypothesis"
   ]
  },
  {
   "cell_type": "markdown",
   "id": "fdc1d090",
   "metadata": {},
   "source": [
    "<font color = \"blue\">\n",
    "<font size = 5>\n",
    "6. Aquarius health club, one of the largest and most popular cross-fit gyms in the country has been advertising a rigorous program for body conditioning. The program is considered successful if the candidate is able to do more than 5 push-ups, as compared to when he/she enrolled in the program. Using the sample data provided can you conclude whether the program is successful? (Consider the level of Significance as 5%)\n",
    "\n",
    "Note that this is a problem of the paired-t-test. Since the claim is that the training will make a difference of more than 5, the null and alternative hypotheses must be formed accordingly."
   ]
  },
  {
   "cell_type": "code",
   "execution_count": 62,
   "id": "82aeb1c2",
   "metadata": {},
   "outputs": [],
   "source": [
    "df2 = pd.read_csv(\"Aquarius_gym.csv\")"
   ]
  },
  {
   "cell_type": "code",
   "execution_count": 63,
   "id": "534376d8",
   "metadata": {},
   "outputs": [
    {
     "name": "stdout",
     "output_type": "stream",
     "text": [
      "<class 'pandas.core.frame.DataFrame'>\n",
      "RangeIndex: 100 entries, 0 to 99\n",
      "Data columns (total 3 columns):\n",
      " #   Column  Non-Null Count  Dtype\n",
      "---  ------  --------------  -----\n",
      " 0   Sr no.  100 non-null    int64\n",
      " 1   Before  100 non-null    int64\n",
      " 2   After   100 non-null    int64\n",
      "dtypes: int64(3)\n",
      "memory usage: 2.5 KB\n"
     ]
    }
   ],
   "source": [
    "df2.info()"
   ]
  },
  {
   "cell_type": "code",
   "execution_count": 64,
   "id": "e9cb00cf",
   "metadata": {},
   "outputs": [
    {
     "data": {
      "text/html": [
       "<div>\n",
       "<style scoped>\n",
       "    .dataframe tbody tr th:only-of-type {\n",
       "        vertical-align: middle;\n",
       "    }\n",
       "\n",
       "    .dataframe tbody tr th {\n",
       "        vertical-align: top;\n",
       "    }\n",
       "\n",
       "    .dataframe thead th {\n",
       "        text-align: right;\n",
       "    }\n",
       "</style>\n",
       "<table border=\"1\" class=\"dataframe\">\n",
       "  <thead>\n",
       "    <tr style=\"text-align: right;\">\n",
       "      <th></th>\n",
       "      <th>Sr no.</th>\n",
       "      <th>Before</th>\n",
       "      <th>After</th>\n",
       "    </tr>\n",
       "  </thead>\n",
       "  <tbody>\n",
       "    <tr>\n",
       "      <th>count</th>\n",
       "      <td>100.000000</td>\n",
       "      <td>100.000000</td>\n",
       "      <td>100.000000</td>\n",
       "    </tr>\n",
       "    <tr>\n",
       "      <th>mean</th>\n",
       "      <td>50.500000</td>\n",
       "      <td>26.940000</td>\n",
       "      <td>32.490000</td>\n",
       "    </tr>\n",
       "    <tr>\n",
       "      <th>std</th>\n",
       "      <td>29.011492</td>\n",
       "      <td>8.806357</td>\n",
       "      <td>8.779562</td>\n",
       "    </tr>\n",
       "    <tr>\n",
       "      <th>min</th>\n",
       "      <td>1.000000</td>\n",
       "      <td>3.000000</td>\n",
       "      <td>10.000000</td>\n",
       "    </tr>\n",
       "    <tr>\n",
       "      <th>25%</th>\n",
       "      <td>25.750000</td>\n",
       "      <td>21.750000</td>\n",
       "      <td>26.000000</td>\n",
       "    </tr>\n",
       "    <tr>\n",
       "      <th>50%</th>\n",
       "      <td>50.500000</td>\n",
       "      <td>28.000000</td>\n",
       "      <td>34.000000</td>\n",
       "    </tr>\n",
       "    <tr>\n",
       "      <th>75%</th>\n",
       "      <td>75.250000</td>\n",
       "      <td>32.250000</td>\n",
       "      <td>39.000000</td>\n",
       "    </tr>\n",
       "    <tr>\n",
       "      <th>max</th>\n",
       "      <td>100.000000</td>\n",
       "      <td>47.000000</td>\n",
       "      <td>51.000000</td>\n",
       "    </tr>\n",
       "  </tbody>\n",
       "</table>\n",
       "</div>"
      ],
      "text/plain": [
       "           Sr no.      Before       After\n",
       "count  100.000000  100.000000  100.000000\n",
       "mean    50.500000   26.940000   32.490000\n",
       "std     29.011492    8.806357    8.779562\n",
       "min      1.000000    3.000000   10.000000\n",
       "25%     25.750000   21.750000   26.000000\n",
       "50%     50.500000   28.000000   34.000000\n",
       "75%     75.250000   32.250000   39.000000\n",
       "max    100.000000   47.000000   51.000000"
      ]
     },
     "execution_count": 64,
     "metadata": {},
     "output_type": "execute_result"
    }
   ],
   "source": [
    "df2.describe()"
   ]
  },
  {
   "cell_type": "code",
   "execution_count": 65,
   "id": "22a90c5f",
   "metadata": {},
   "outputs": [
    {
     "data": {
      "text/plain": [
       "Sr no.    0\n",
       "Before    0\n",
       "After     0\n",
       "dtype: int64"
      ]
     },
     "execution_count": 65,
     "metadata": {},
     "output_type": "execute_result"
    }
   ],
   "source": [
    "df2.isnull().sum()"
   ]
  },
  {
   "cell_type": "code",
   "execution_count": 66,
   "id": "f49a6ad2",
   "metadata": {},
   "outputs": [
    {
     "data": {
      "text/plain": [
       "Text(0.5, 1.0, 'Distribution of Pushups After joining')"
      ]
     },
     "execution_count": 66,
     "metadata": {},
     "output_type": "execute_result"
    },
    {
     "data": {
      "image/png": "[encoded data removed]",
      "text/plain": [
       "<Figure size 2000x1000 with 2 Axes>"
      ]
     },
     "metadata": {},
     "output_type": "display_data"
    }
   ],
   "source": [
    "fig,axes = plt.subplots(ncols=2,figsize=(20,10))\n",
    "sns.histplot(df2['Before'],ax=axes[0],kde=True)\n",
    "sns.histplot(df2['After'],ax=axes[1],kde=True)\n",
    "axes[0].set_title('Distribution of Pushups Before joining')\n",
    "axes[1].set_title('Distribution of Pushups After joining')"
   ]
  },
  {
   "cell_type": "markdown",
   "id": "277db6d7",
   "metadata": {},
   "source": [
    "#### H0: The data is Normally Distributed.\n",
    "#### H1: The data is not normally distributed."
   ]
  },
  {
   "cell_type": "code",
   "execution_count": 67,
   "id": "5ab30922",
   "metadata": {},
   "outputs": [
    {
     "data": {
      "text/plain": [
       "ShapiroResult(statistic=0.9895846247673035, pvalue=0.6310927867889404)"
      ]
     },
     "execution_count": 67,
     "metadata": {},
     "output_type": "execute_result"
    }
   ],
   "source": [
    "stats.shapiro(df2['Before'])"
   ]
  },
  {
   "cell_type": "code",
   "execution_count": 68,
   "id": "afc2b1c6",
   "metadata": {},
   "outputs": [
    {
     "data": {
      "text/plain": [
       "False"
      ]
     },
     "execution_count": 68,
     "metadata": {},
     "output_type": "execute_result"
    }
   ],
   "source": [
    "0.6310927867889404 < 0.05"
   ]
  },
  {
   "cell_type": "markdown",
   "id": "b0fa1425",
   "metadata": {},
   "source": [
    "do not reject null hypothesis"
   ]
  },
  {
   "cell_type": "code",
   "execution_count": 69,
   "id": "a431be60",
   "metadata": {},
   "outputs": [
    {
     "data": {
      "text/plain": [
       "ShapiroResult(statistic=0.9847944974899292, pvalue=0.3069112300872803)"
      ]
     },
     "execution_count": 69,
     "metadata": {},
     "output_type": "execute_result"
    }
   ],
   "source": [
    "stats.shapiro(df2['After'])"
   ]
  },
  {
   "cell_type": "code",
   "execution_count": 70,
   "id": "c39f6020",
   "metadata": {},
   "outputs": [
    {
     "data": {
      "text/plain": [
       "False"
      ]
     },
     "execution_count": 70,
     "metadata": {},
     "output_type": "execute_result"
    }
   ],
   "source": [
    "0.3069112300872803 < 0.05"
   ]
  },
  {
   "cell_type": "markdown",
   "id": "7b8ddcad",
   "metadata": {},
   "source": [
    "do not reject null hypothesis"
   ]
  },
  {
   "cell_type": "code",
   "execution_count": 71,
   "id": "dfa08bc9",
   "metadata": {},
   "outputs": [
    {
     "data": {
      "text/plain": [
       "<Axes: xlabel='After'>"
      ]
     },
     "execution_count": 71,
     "metadata": {},
     "output_type": "execute_result"
    },
    {
     "data": {
      "image/png": "[encoded data removed]",
      "text/plain": [
       "<Figure size 1000x1000 with 2 Axes>"
      ]
     },
     "metadata": {},
     "output_type": "display_data"
    }
   ],
   "source": [
    "fig,axes = plt.subplots(nrows=2,figsize=(10,10))\n",
    "sns.boxplot(x = df2['Before'],ax=axes[0])\n",
    "sns.boxplot(x = df2['After'],ax=axes[1])"
   ]
  },
  {
   "cell_type": "markdown",
   "id": "55acfc9f",
   "metadata": {},
   "source": [
    "### Main Hypothesis\n",
    "#### H0: The Pushups difference between before and after joining is less than or equal to 5 ~ µ(After)-µ(Before) <= 5\n",
    "#### H1: The Pushups difference between before and after joining is more than 5 ~ µ(After)-µ(Before) > 5"
   ]
  },
  {
   "cell_type": "markdown",
   "id": "54a33504",
   "metadata": {},
   "source": [
    "The level of significance (Alpha ) = 0.05.\n",
    "\n",
    "Degree of Freedom: Since the sample is the same for both Sampling tests, we have N-1 degrees of freedom : 99\n",
    "\n",
    "Since the sole purpose of the test is to check whether the Pushups difference between before and after joining is more than 5,we would prefer a Paired T-test."
   ]
  },
  {
   "cell_type": "markdown",
   "id": "7b7b1dd6",
   "metadata": {},
   "source": [
    "#### H0: The Pushups before and after joining the club are same ~ µ(After) = µ(Before)\n",
    "#### H1: The Pushups before and after joining the club has difference ~ µ(After) ≠ µ(Before) "
   ]
  },
  {
   "cell_type": "code",
   "execution_count": 72,
   "id": "7b7b7402",
   "metadata": {},
   "outputs": [
    {
     "name": "stdout",
     "output_type": "stream",
     "text": [
      "tstat: 19.322619811082458\n",
      "p-value for one-tail: 1.1460209626255983e-35\n"
     ]
    }
   ],
   "source": [
    "t_statistic, p_value  =  stats.ttest_rel(df2['After'],df2['Before'])\n",
    "print('tstat:',t_statistic)    \n",
    "print(\"p-value for one-tail:\", p_value/2)"
   ]
  },
  {
   "cell_type": "code",
   "execution_count": 73,
   "id": "0bfaf126",
   "metadata": {},
   "outputs": [
    {
     "data": {
      "text/plain": [
       "True"
      ]
     },
     "execution_count": 73,
     "metadata": {},
     "output_type": "execute_result"
    }
   ],
   "source": [
    "1.1460209626255983e-35 < 0.05"
   ]
  },
  {
   "cell_type": "markdown",
   "id": "242663c4",
   "metadata": {},
   "source": [
    "### Reject Null Hypothesis. There is a difference."
   ]
  },
  {
   "cell_type": "code",
   "execution_count": 74,
   "id": "6d1a4288",
   "metadata": {},
   "outputs": [],
   "source": [
    "df2[\"diff\"] = df2[\"After\"]-df2[\"Before\"]"
   ]
  },
  {
   "cell_type": "code",
   "execution_count": 75,
   "id": "d6b1d513",
   "metadata": {},
   "outputs": [
    {
     "data": {
      "text/plain": [
       "TtestResult(statistic=1.9148542155126753, pvalue=0.029198872141011217, df=99)"
      ]
     },
     "execution_count": 75,
     "metadata": {},
     "output_type": "execute_result"
    }
   ],
   "source": [
    "ttest_1samp(df2[\"diff\"],5,alternative=\"greater\")"
   ]
  },
  {
   "cell_type": "code",
   "execution_count": 76,
   "id": "ba60f61f",
   "metadata": {},
   "outputs": [
    {
     "data": {
      "text/plain": [
       "True"
      ]
     },
     "execution_count": 76,
     "metadata": {},
     "output_type": "execute_result"
    }
   ],
   "source": [
    "0.029198872141011217 < 0.05"
   ]
  },
  {
   "cell_type": "markdown",
   "id": "97254a65",
   "metadata": {},
   "source": [
    "Reject Null Hypothesis"
   ]
  },
  {
   "cell_type": "markdown",
   "id": "f5d1b3ca",
   "metadata": {},
   "source": [
    "### Manual"
   ]
  },
  {
   "cell_type": "code",
   "execution_count": 77,
   "id": "3433f69a",
   "metadata": {},
   "outputs": [
    {
     "name": "stdout",
     "output_type": "stream",
     "text": [
      "T stat:1.9148542155126758\n",
      "P value:0.029198872141011245\n"
     ]
    }
   ],
   "source": [
    "n = 100\n",
    "x_bar = df2[\"diff\"].mean()\n",
    "sg = df2[\"diff\"].std()\n",
    "mu = 5\n",
    "test_stat = (x_bar - mu) / (sg/np.sqrt(n))\n",
    "print(f\"T stat:{test_stat}\")\n",
    "p = 1-stats.t.cdf(test_stat,n-1)\n",
    "print(f\"P value:{p}\")"
   ]
  },
  {
   "cell_type": "markdown",
   "id": "ac9f3b54",
   "metadata": {},
   "source": [
    "<font color = \"blue\">\n",
    "<font size = 5>\n",
    "7. Dental implant data: The hardness of metal implant in dental cavities depends on multiple factors, such as the method of implant, the temperature at which the metal is treated, the alloy used as well as on the dentists who may favour one method above another and may work better in his/her favourite method. The response is the variable of interest."
   ]
  },
  {
   "cell_type": "code",
   "execution_count": 78,
   "id": "58ad171a",
   "metadata": {},
   "outputs": [],
   "source": [
    "df3 = pd.read_excel(\"Dental Hardness data.xlsx\",\"Data\")"
   ]
  },
  {
   "cell_type": "code",
   "execution_count": 79,
   "id": "a0a8f9b0",
   "metadata": {},
   "outputs": [
    {
     "data": {
      "text/html": [
       "<div>\n",
       "<style scoped>\n",
       "    .dataframe tbody tr th:only-of-type {\n",
       "        vertical-align: middle;\n",
       "    }\n",
       "\n",
       "    .dataframe tbody tr th {\n",
       "        vertical-align: top;\n",
       "    }\n",
       "\n",
       "    .dataframe thead th {\n",
       "        text-align: right;\n",
       "    }\n",
       "</style>\n",
       "<table border=\"1\" class=\"dataframe\">\n",
       "  <thead>\n",
       "    <tr style=\"text-align: right;\">\n",
       "      <th></th>\n",
       "      <th>Dentist</th>\n",
       "      <th>Method</th>\n",
       "      <th>Alloy</th>\n",
       "      <th>Temp</th>\n",
       "      <th>Response</th>\n",
       "    </tr>\n",
       "  </thead>\n",
       "  <tbody>\n",
       "    <tr>\n",
       "      <th>0</th>\n",
       "      <td>1</td>\n",
       "      <td>1</td>\n",
       "      <td>1</td>\n",
       "      <td>1500</td>\n",
       "      <td>813</td>\n",
       "    </tr>\n",
       "    <tr>\n",
       "      <th>1</th>\n",
       "      <td>1</td>\n",
       "      <td>1</td>\n",
       "      <td>1</td>\n",
       "      <td>1600</td>\n",
       "      <td>792</td>\n",
       "    </tr>\n",
       "    <tr>\n",
       "      <th>2</th>\n",
       "      <td>1</td>\n",
       "      <td>1</td>\n",
       "      <td>1</td>\n",
       "      <td>1700</td>\n",
       "      <td>792</td>\n",
       "    </tr>\n",
       "    <tr>\n",
       "      <th>3</th>\n",
       "      <td>1</td>\n",
       "      <td>1</td>\n",
       "      <td>2</td>\n",
       "      <td>1500</td>\n",
       "      <td>907</td>\n",
       "    </tr>\n",
       "    <tr>\n",
       "      <th>4</th>\n",
       "      <td>1</td>\n",
       "      <td>1</td>\n",
       "      <td>2</td>\n",
       "      <td>1600</td>\n",
       "      <td>792</td>\n",
       "    </tr>\n",
       "  </tbody>\n",
       "</table>\n",
       "</div>"
      ],
      "text/plain": [
       "   Dentist  Method  Alloy  Temp  Response\n",
       "0        1       1      1  1500       813\n",
       "1        1       1      1  1600       792\n",
       "2        1       1      1  1700       792\n",
       "3        1       1      2  1500       907\n",
       "4        1       1      2  1600       792"
      ]
     },
     "execution_count": 79,
     "metadata": {},
     "output_type": "execute_result"
    }
   ],
   "source": [
    "df3.head()"
   ]
  },
  {
   "cell_type": "code",
   "execution_count": 80,
   "id": "6378a7d6",
   "metadata": {},
   "outputs": [
    {
     "name": "stdout",
     "output_type": "stream",
     "text": [
      "<class 'pandas.core.frame.DataFrame'>\n",
      "RangeIndex: 90 entries, 0 to 89\n",
      "Data columns (total 5 columns):\n",
      " #   Column    Non-Null Count  Dtype\n",
      "---  ------    --------------  -----\n",
      " 0   Dentist   90 non-null     int64\n",
      " 1   Method    90 non-null     int64\n",
      " 2   Alloy     90 non-null     int64\n",
      " 3   Temp      90 non-null     int64\n",
      " 4   Response  90 non-null     int64\n",
      "dtypes: int64(5)\n",
      "memory usage: 3.6 KB\n"
     ]
    }
   ],
   "source": [
    "df3.info()"
   ]
  },
  {
   "cell_type": "code",
   "execution_count": 81,
   "id": "2083a3a1",
   "metadata": {},
   "outputs": [],
   "source": [
    "df3[\"Dentist\"]=pd.Categorical(df3[\"Dentist\"])"
   ]
  },
  {
   "cell_type": "code",
   "execution_count": 82,
   "id": "ea2cdfda",
   "metadata": {},
   "outputs": [],
   "source": [
    "df3[\"Method\"]=pd.Categorical(df3[\"Method\"])"
   ]
  },
  {
   "cell_type": "code",
   "execution_count": 83,
   "id": "0d2613b2",
   "metadata": {},
   "outputs": [],
   "source": [
    "df3[\"Alloy\"]=pd.Categorical(df3[\"Alloy\"])"
   ]
  },
  {
   "cell_type": "code",
   "execution_count": 84,
   "id": "13c0b862",
   "metadata": {},
   "outputs": [],
   "source": [
    "df3[\"Temp\"]=pd.Categorical(df3[\"Temp\"])"
   ]
  },
  {
   "cell_type": "code",
   "execution_count": 85,
   "id": "55222a72",
   "metadata": {},
   "outputs": [
    {
     "name": "stdout",
     "output_type": "stream",
     "text": [
      "<class 'pandas.core.frame.DataFrame'>\n",
      "RangeIndex: 90 entries, 0 to 89\n",
      "Data columns (total 5 columns):\n",
      " #   Column    Non-Null Count  Dtype   \n",
      "---  ------    --------------  -----   \n",
      " 0   Dentist   90 non-null     category\n",
      " 1   Method    90 non-null     category\n",
      " 2   Alloy     90 non-null     category\n",
      " 3   Temp      90 non-null     category\n",
      " 4   Response  90 non-null     int64   \n",
      "dtypes: category(4), int64(1)\n",
      "memory usage: 1.8 KB\n"
     ]
    }
   ],
   "source": [
    "df3.info()"
   ]
  },
  {
   "cell_type": "code",
   "execution_count": 86,
   "id": "5df4d4fe",
   "metadata": {},
   "outputs": [
    {
     "data": {
      "text/html": [
       "<div>\n",
       "<style scoped>\n",
       "    .dataframe tbody tr th:only-of-type {\n",
       "        vertical-align: middle;\n",
       "    }\n",
       "\n",
       "    .dataframe tbody tr th {\n",
       "        vertical-align: top;\n",
       "    }\n",
       "\n",
       "    .dataframe thead th {\n",
       "        text-align: right;\n",
       "    }\n",
       "</style>\n",
       "<table border=\"1\" class=\"dataframe\">\n",
       "  <thead>\n",
       "    <tr style=\"text-align: right;\">\n",
       "      <th></th>\n",
       "      <th>Response</th>\n",
       "    </tr>\n",
       "  </thead>\n",
       "  <tbody>\n",
       "    <tr>\n",
       "      <th>count</th>\n",
       "      <td>90.000000</td>\n",
       "    </tr>\n",
       "    <tr>\n",
       "      <th>mean</th>\n",
       "      <td>741.777778</td>\n",
       "    </tr>\n",
       "    <tr>\n",
       "      <th>std</th>\n",
       "      <td>145.767845</td>\n",
       "    </tr>\n",
       "    <tr>\n",
       "      <th>min</th>\n",
       "      <td>289.000000</td>\n",
       "    </tr>\n",
       "    <tr>\n",
       "      <th>25%</th>\n",
       "      <td>698.000000</td>\n",
       "    </tr>\n",
       "    <tr>\n",
       "      <th>50%</th>\n",
       "      <td>767.000000</td>\n",
       "    </tr>\n",
       "    <tr>\n",
       "      <th>75%</th>\n",
       "      <td>824.000000</td>\n",
       "    </tr>\n",
       "    <tr>\n",
       "      <th>max</th>\n",
       "      <td>1115.000000</td>\n",
       "    </tr>\n",
       "  </tbody>\n",
       "</table>\n",
       "</div>"
      ],
      "text/plain": [
       "          Response\n",
       "count    90.000000\n",
       "mean    741.777778\n",
       "std     145.767845\n",
       "min     289.000000\n",
       "25%     698.000000\n",
       "50%     767.000000\n",
       "75%     824.000000\n",
       "max    1115.000000"
      ]
     },
     "execution_count": 86,
     "metadata": {},
     "output_type": "execute_result"
    }
   ],
   "source": [
    "df3.describe()"
   ]
  },
  {
   "cell_type": "code",
   "execution_count": 87,
   "id": "282fa67b",
   "metadata": {},
   "outputs": [
    {
     "data": {
      "text/plain": [
       "Dentist     0\n",
       "Method      0\n",
       "Alloy       0\n",
       "Temp        0\n",
       "Response    0\n",
       "dtype: int64"
      ]
     },
     "execution_count": 87,
     "metadata": {},
     "output_type": "execute_result"
    }
   ],
   "source": [
    "df3.isnull().sum()"
   ]
  },
  {
   "cell_type": "code",
   "execution_count": 88,
   "id": "832be3e2",
   "metadata": {},
   "outputs": [
    {
     "data": {
      "text/plain": [
       "Text(0.5, 1.0, 'Distribution of Implant Hardness')"
      ]
     },
     "execution_count": 88,
     "metadata": {},
     "output_type": "execute_result"
    },
    {
     "data": {
      "image/png": "[encoded data removed]",
      "text/plain": [
       "<Figure size 500x500 with 1 Axes>"
      ]
     },
     "metadata": {},
     "output_type": "display_data"
    }
   ],
   "source": [
    "fig,axes = plt.subplots(figsize=(5,5))\n",
    "sns.histplot(df3['Response'],kde=True)\n",
    "axes.set_title('Distribution of Implant Hardness')"
   ]
  },
  {
   "cell_type": "markdown",
   "id": "2a5dcc4e",
   "metadata": {},
   "source": [
    "#### H0: The data is Normally Distributed.\n",
    "#### H1: The data is not normally distributed."
   ]
  },
  {
   "cell_type": "code",
   "execution_count": 89,
   "id": "785a0bb8",
   "metadata": {},
   "outputs": [
    {
     "data": {
      "text/plain": [
       "ShapiroResult(statistic=0.9065925478935242, pvalue=8.080212865024805e-06)"
      ]
     },
     "execution_count": 89,
     "metadata": {},
     "output_type": "execute_result"
    }
   ],
   "source": [
    "stats.shapiro(df3['Response'])"
   ]
  },
  {
   "cell_type": "code",
   "execution_count": 90,
   "id": "cb89eea2",
   "metadata": {},
   "outputs": [
    {
     "data": {
      "text/plain": [
       "True"
      ]
     },
     "execution_count": 90,
     "metadata": {},
     "output_type": "execute_result"
    }
   ],
   "source": [
    "8.080212865024805e-06 < 0.05"
   ]
  },
  {
   "cell_type": "markdown",
   "id": "50272332",
   "metadata": {},
   "source": [
    "### Reject Null Hypothesis"
   ]
  },
  {
   "cell_type": "markdown",
   "id": "56095b9b",
   "metadata": {},
   "source": [
    "<font color = \"blue\">\n",
    "<font size = 5>\n",
    "7.1 Test whether there is any difference among the dentists on the implant hardness. State the null and alternative hypotheses. Note that both types of alloys cannot be considered together. You must state the null and alternative hypotheses separately for the two types of alloys.?"
   ]
  },
  {
   "cell_type": "markdown",
   "id": "5977d078",
   "metadata": {},
   "source": [
    "### Alloy 1 Hypothesis:\n",
    "#### H0: There is no difference among the dentists on the implant hardness in alloy 1\n",
    "#### H1: There is difference among the dentists on the implant hardness in alloy 1"
   ]
  },
  {
   "cell_type": "markdown",
   "id": "e9949bff",
   "metadata": {},
   "source": [
    "### Alloy 2 Hypothesis:\n",
    "#### H0: There is no difference among the dentists on the implant hardness in alloy 2\n",
    "#### H1: There is difference among the dentists on the implant hardness in alloy 2"
   ]
  },
  {
   "cell_type": "markdown",
   "id": "2c6cd119",
   "metadata": {},
   "source": [
    "<font color = \"blue\">\n",
    "<font size = 5>\n",
    "7.2 Before the hypotheses may be tested, state the required assumptions. Are the assumptions fulfilled? Comment separately on both alloy types.? "
   ]
  },
  {
   "cell_type": "markdown",
   "id": "4aa4a018",
   "metadata": {},
   "source": [
    "#### Normality Assumption\n",
    "#### H0: The data is Normally Distributed.\n",
    "#### H1: The data is not normally distributed."
   ]
  },
  {
   "cell_type": "markdown",
   "id": "808f0da7",
   "metadata": {},
   "source": [
    "##### Alloy 1"
   ]
  },
  {
   "cell_type": "code",
   "execution_count": 91,
   "id": "0ea38251",
   "metadata": {},
   "outputs": [
    {
     "data": {
      "text/plain": [
       "ShapiroResult(statistic=0.8304629921913147, pvalue=1.1945070582441986e-05)"
      ]
     },
     "execution_count": 91,
     "metadata": {},
     "output_type": "execute_result"
    }
   ],
   "source": [
    "stats.shapiro(df3[df3[\"Alloy\"]==1][\"Response\"])"
   ]
  },
  {
   "cell_type": "code",
   "execution_count": 92,
   "id": "e28f2278",
   "metadata": {},
   "outputs": [
    {
     "data": {
      "text/plain": [
       "True"
      ]
     },
     "execution_count": 92,
     "metadata": {},
     "output_type": "execute_result"
    }
   ],
   "source": [
    "1.1945070582441986e-05 < 0.05"
   ]
  },
  {
   "cell_type": "markdown",
   "id": "3d1edfbf",
   "metadata": {},
   "source": [
    "#### Alloy 2"
   ]
  },
  {
   "cell_type": "code",
   "execution_count": 93,
   "id": "a7e33a88",
   "metadata": {},
   "outputs": [
    {
     "data": {
      "text/plain": [
       "ShapiroResult(statistic=0.887769341468811, pvalue=0.00040293222991749644)"
      ]
     },
     "execution_count": 93,
     "metadata": {},
     "output_type": "execute_result"
    }
   ],
   "source": [
    "stats.shapiro(df3[df3[\"Alloy\"]==2][\"Response\"])"
   ]
  },
  {
   "cell_type": "code",
   "execution_count": 94,
   "id": "c405727f",
   "metadata": {},
   "outputs": [
    {
     "data": {
      "text/plain": [
       "True"
      ]
     },
     "execution_count": 94,
     "metadata": {},
     "output_type": "execute_result"
    }
   ],
   "source": [
    "0.00040293222991749644 < 0.05"
   ]
  },
  {
   "cell_type": "markdown",
   "id": "9df19edd",
   "metadata": {},
   "source": [
    "Alloy 1 and Alloy 2 alone fails the normality. The two way anova will have two or more factors, lets check with other factors"
   ]
  },
  {
   "cell_type": "markdown",
   "id": "8b764d0e",
   "metadata": {},
   "source": [
    "#### Reject Null Hypothesis"
   ]
  },
  {
   "cell_type": "markdown",
   "id": "4eb158dd",
   "metadata": {},
   "source": [
    "### Alloy 1 with dentist"
   ]
  },
  {
   "cell_type": "code",
   "execution_count": 95,
   "id": "b6403d5a",
   "metadata": {},
   "outputs": [
    {
     "data": {
      "text/plain": [
       "ShapiroResult(statistic=0.9113541841506958, pvalue=0.3254688084125519)"
      ]
     },
     "execution_count": 95,
     "metadata": {},
     "output_type": "execute_result"
    }
   ],
   "source": [
    "stats.shapiro(df3[(df3[\"Alloy\"]==1)&(df3[\"Dentist\"]==1)][\"Response\"])"
   ]
  },
  {
   "cell_type": "code",
   "execution_count": 96,
   "id": "7c33f052",
   "metadata": {},
   "outputs": [
    {
     "data": {
      "text/plain": [
       "False"
      ]
     },
     "execution_count": 96,
     "metadata": {},
     "output_type": "execute_result"
    }
   ],
   "source": [
    "0.3254688084125519<0.05"
   ]
  },
  {
   "cell_type": "code",
   "execution_count": 97,
   "id": "8befa9fc",
   "metadata": {},
   "outputs": [
    {
     "data": {
      "text/plain": [
       "ShapiroResult(statistic=0.9642462134361267, pvalue=0.8415456414222717)"
      ]
     },
     "execution_count": 97,
     "metadata": {},
     "output_type": "execute_result"
    }
   ],
   "source": [
    "stats.shapiro(df3[(df3[\"Alloy\"]==1)&(df3[\"Dentist\"]==2)][\"Response\"])"
   ]
  },
  {
   "cell_type": "code",
   "execution_count": 98,
   "id": "00851f1e",
   "metadata": {},
   "outputs": [
    {
     "data": {
      "text/plain": [
       "False"
      ]
     },
     "execution_count": 98,
     "metadata": {},
     "output_type": "execute_result"
    }
   ],
   "source": [
    "0.8415456414222717 < 0.05"
   ]
  },
  {
   "cell_type": "code",
   "execution_count": 99,
   "id": "3a4a155f",
   "metadata": {},
   "outputs": [
    {
     "data": {
      "text/plain": [
       "ShapiroResult(statistic=0.8721169233322144, pvalue=0.12953516840934753)"
      ]
     },
     "execution_count": 99,
     "metadata": {},
     "output_type": "execute_result"
    }
   ],
   "source": [
    "stats.shapiro(df3[(df3[\"Alloy\"]==1)&(df3[\"Dentist\"]==3)][\"Response\"])"
   ]
  },
  {
   "cell_type": "code",
   "execution_count": 100,
   "id": "1c678a67",
   "metadata": {},
   "outputs": [
    {
     "data": {
      "text/plain": [
       "False"
      ]
     },
     "execution_count": 100,
     "metadata": {},
     "output_type": "execute_result"
    }
   ],
   "source": [
    "0.12953516840934753 < 0.05"
   ]
  },
  {
   "cell_type": "code",
   "execution_count": 101,
   "id": "d555025a",
   "metadata": {},
   "outputs": [
    {
     "data": {
      "text/plain": [
       "ShapiroResult(statistic=0.8368974328041077, pvalue=0.05333680287003517)"
      ]
     },
     "execution_count": 101,
     "metadata": {},
     "output_type": "execute_result"
    }
   ],
   "source": [
    "stats.shapiro(df3[(df3[\"Alloy\"]==1)&(df3[\"Dentist\"]==4)][\"Response\"])"
   ]
  },
  {
   "cell_type": "code",
   "execution_count": 102,
   "id": "6a8ba4db",
   "metadata": {},
   "outputs": [
    {
     "data": {
      "text/plain": [
       "False"
      ]
     },
     "execution_count": 102,
     "metadata": {},
     "output_type": "execute_result"
    }
   ],
   "source": [
    "0.05333680287003517 < 0.05"
   ]
  },
  {
   "cell_type": "code",
   "execution_count": 103,
   "id": "ebf80fe8",
   "metadata": {},
   "outputs": [
    {
     "data": {
      "text/plain": [
       "ShapiroResult(statistic=0.8534296751022339, pvalue=0.08127813786268234)"
      ]
     },
     "execution_count": 103,
     "metadata": {},
     "output_type": "execute_result"
    }
   ],
   "source": [
    "stats.shapiro(df3[(df3[\"Alloy\"]==1)&(df3[\"Dentist\"]==5)][\"Response\"])"
   ]
  },
  {
   "cell_type": "code",
   "execution_count": 104,
   "id": "5ca1b588",
   "metadata": {},
   "outputs": [
    {
     "data": {
      "text/plain": [
       "False"
      ]
     },
     "execution_count": 104,
     "metadata": {},
     "output_type": "execute_result"
    }
   ],
   "source": [
    "0.08127813786268234 < 0.05"
   ]
  },
  {
   "cell_type": "markdown",
   "id": "71f3428e",
   "metadata": {},
   "source": [
    "Alloy 1 with all dentist is normally distributed."
   ]
  },
  {
   "cell_type": "markdown",
   "id": "d55d0d5a",
   "metadata": {},
   "source": [
    "### Alloy 2 with dentist"
   ]
  },
  {
   "cell_type": "code",
   "execution_count": 105,
   "id": "2da097f1",
   "metadata": {},
   "outputs": [
    {
     "data": {
      "text/plain": [
       "ShapiroResult(statistic=0.9039731621742249, pvalue=0.27593979239463806)"
      ]
     },
     "execution_count": 105,
     "metadata": {},
     "output_type": "execute_result"
    }
   ],
   "source": [
    "stats.shapiro(df3[(df3[\"Alloy\"]==2)&(df3[\"Dentist\"]==1)][\"Response\"])"
   ]
  },
  {
   "cell_type": "code",
   "execution_count": 106,
   "id": "e5a8b01d",
   "metadata": {},
   "outputs": [
    {
     "data": {
      "text/plain": [
       "False"
      ]
     },
     "execution_count": 106,
     "metadata": {},
     "output_type": "execute_result"
    }
   ],
   "source": [
    "0.27593979239463806 < 0.05"
   ]
  },
  {
   "cell_type": "code",
   "execution_count": 107,
   "id": "a57364c7",
   "metadata": {},
   "outputs": [
    {
     "data": {
      "text/plain": [
       "ShapiroResult(statistic=0.9392004013061523, pvalue=0.5735077857971191)"
      ]
     },
     "execution_count": 107,
     "metadata": {},
     "output_type": "execute_result"
    }
   ],
   "source": [
    "stats.shapiro(df3[(df3[\"Alloy\"]==2)&(df3[\"Dentist\"]==2)][\"Response\"])"
   ]
  },
  {
   "cell_type": "code",
   "execution_count": 108,
   "id": "b0c96d7c",
   "metadata": {},
   "outputs": [
    {
     "data": {
      "text/plain": [
       "False"
      ]
     },
     "execution_count": 108,
     "metadata": {},
     "output_type": "execute_result"
    }
   ],
   "source": [
    "0.5735077857971191 < 0.05"
   ]
  },
  {
   "cell_type": "code",
   "execution_count": 109,
   "id": "9f07fe5e",
   "metadata": {},
   "outputs": [
    {
     "data": {
      "text/plain": [
       "ShapiroResult(statistic=0.9340971112251282, pvalue=0.5213080644607544)"
      ]
     },
     "execution_count": 109,
     "metadata": {},
     "output_type": "execute_result"
    }
   ],
   "source": [
    "stats.shapiro(df3[(df3[\"Alloy\"]==2)&(df3[\"Dentist\"]==3)][\"Response\"])"
   ]
  },
  {
   "cell_type": "code",
   "execution_count": 110,
   "id": "9c72f979",
   "metadata": {},
   "outputs": [
    {
     "data": {
      "text/plain": [
       "False"
      ]
     },
     "execution_count": 110,
     "metadata": {},
     "output_type": "execute_result"
    }
   ],
   "source": [
    "0.5213080644607544 < 0.05"
   ]
  },
  {
   "cell_type": "code",
   "execution_count": 111,
   "id": "0eeb0442",
   "metadata": {},
   "outputs": [
    {
     "data": {
      "text/plain": [
       "ShapiroResult(statistic=0.7613219022750854, pvalue=0.007332688197493553)"
      ]
     },
     "execution_count": 111,
     "metadata": {},
     "output_type": "execute_result"
    }
   ],
   "source": [
    "stats.shapiro(df3[(df3[\"Alloy\"]==2)&(df3[\"Dentist\"]==4)][\"Response\"])"
   ]
  },
  {
   "cell_type": "code",
   "execution_count": 112,
   "id": "e35240a6",
   "metadata": {},
   "outputs": [
    {
     "data": {
      "text/plain": [
       "True"
      ]
     },
     "execution_count": 112,
     "metadata": {},
     "output_type": "execute_result"
    }
   ],
   "source": [
    "0.007332688197493553 < 0.05"
   ]
  },
  {
   "cell_type": "code",
   "execution_count": 113,
   "id": "943c1bf1",
   "metadata": {},
   "outputs": [
    {
     "data": {
      "text/plain": [
       "ShapiroResult(statistic=0.9131584167480469, pvalue=0.33861100673675537)"
      ]
     },
     "execution_count": 113,
     "metadata": {},
     "output_type": "execute_result"
    }
   ],
   "source": [
    "stats.shapiro(df3[(df3[\"Alloy\"]==2)&(df3[\"Dentist\"]==5)][\"Response\"])"
   ]
  },
  {
   "cell_type": "code",
   "execution_count": 114,
   "id": "d360125e",
   "metadata": {},
   "outputs": [
    {
     "data": {
      "text/plain": [
       "False"
      ]
     },
     "execution_count": 114,
     "metadata": {},
     "output_type": "execute_result"
    }
   ],
   "source": [
    "0.33861100673675537 < 0.05"
   ]
  },
  {
   "cell_type": "markdown",
   "id": "0be661d2",
   "metadata": {},
   "source": [
    "Alloy 2 with all other dentist except dentist 4 is normally distributed."
   ]
  },
  {
   "cell_type": "markdown",
   "id": "5a3bc51d",
   "metadata": {},
   "source": [
    "### Alloy 1 with method"
   ]
  },
  {
   "cell_type": "code",
   "execution_count": 115,
   "id": "0a352975",
   "metadata": {},
   "outputs": [
    {
     "data": {
      "text/plain": [
       "ShapiroResult(statistic=0.9183822870254517, pvalue=0.18198540806770325)"
      ]
     },
     "execution_count": 115,
     "metadata": {},
     "output_type": "execute_result"
    }
   ],
   "source": [
    "stats.shapiro(df3[(df3[\"Alloy\"]==1)&(df3[\"Method\"]==1)][\"Response\"])"
   ]
  },
  {
   "cell_type": "code",
   "execution_count": 116,
   "id": "a194d39c",
   "metadata": {},
   "outputs": [
    {
     "data": {
      "text/plain": [
       "False"
      ]
     },
     "execution_count": 116,
     "metadata": {},
     "output_type": "execute_result"
    }
   ],
   "source": [
    "0.18198540806770325<0.05"
   ]
  },
  {
   "cell_type": "code",
   "execution_count": 117,
   "id": "7507f094",
   "metadata": {},
   "outputs": [
    {
     "data": {
      "text/plain": [
       "ShapiroResult(statistic=0.9732585549354553, pvalue=0.9030335545539856)"
      ]
     },
     "execution_count": 117,
     "metadata": {},
     "output_type": "execute_result"
    }
   ],
   "source": [
    "stats.shapiro(df3[(df3[\"Alloy\"]==1)&(df3[\"Method\"]==2)][\"Response\"])"
   ]
  },
  {
   "cell_type": "code",
   "execution_count": 118,
   "id": "55245d54",
   "metadata": {},
   "outputs": [
    {
     "data": {
      "text/plain": [
       "False"
      ]
     },
     "execution_count": 118,
     "metadata": {},
     "output_type": "execute_result"
    }
   ],
   "source": [
    "0.9030335545539856< 0.05"
   ]
  },
  {
   "cell_type": "code",
   "execution_count": 119,
   "id": "6f249468",
   "metadata": {},
   "outputs": [
    {
     "data": {
      "text/plain": [
       "ShapiroResult(statistic=0.9114548563957214, pvalue=0.14254699647426605)"
      ]
     },
     "execution_count": 119,
     "metadata": {},
     "output_type": "execute_result"
    }
   ],
   "source": [
    "stats.shapiro(df3[(df3[\"Alloy\"]==1)&(df3[\"Method\"]==3)][\"Response\"])"
   ]
  },
  {
   "cell_type": "code",
   "execution_count": 120,
   "id": "8d0ae060",
   "metadata": {},
   "outputs": [
    {
     "data": {
      "text/plain": [
       "False"
      ]
     },
     "execution_count": 120,
     "metadata": {},
     "output_type": "execute_result"
    }
   ],
   "source": [
    "0.14254699647426605< 0.05"
   ]
  },
  {
   "cell_type": "markdown",
   "id": "b8eecb2a",
   "metadata": {},
   "source": [
    "Alloy 1 with all method type is normally distributed."
   ]
  },
  {
   "cell_type": "markdown",
   "id": "8515f992",
   "metadata": {},
   "source": [
    "### Alloy 2 with method"
   ]
  },
  {
   "cell_type": "code",
   "execution_count": 121,
   "id": "daa98891",
   "metadata": {},
   "outputs": [
    {
     "data": {
      "text/plain": [
       "ShapiroResult(statistic=0.963810384273529, pvalue=0.7582374811172485)"
      ]
     },
     "execution_count": 121,
     "metadata": {},
     "output_type": "execute_result"
    }
   ],
   "source": [
    "stats.shapiro(df3[(df3[\"Alloy\"]==2)&(df3[\"Method\"]==1)][\"Response\"])"
   ]
  },
  {
   "cell_type": "code",
   "execution_count": 122,
   "id": "3c459eff",
   "metadata": {},
   "outputs": [
    {
     "data": {
      "text/plain": [
       "False"
      ]
     },
     "execution_count": 122,
     "metadata": {},
     "output_type": "execute_result"
    }
   ],
   "source": [
    "0.7582374811172485<0.05"
   ]
  },
  {
   "cell_type": "code",
   "execution_count": 123,
   "id": "1626186b",
   "metadata": {},
   "outputs": [
    {
     "data": {
      "text/plain": [
       "ShapiroResult(statistic=0.755793035030365, pvalue=0.001051110913977027)"
      ]
     },
     "execution_count": 123,
     "metadata": {},
     "output_type": "execute_result"
    }
   ],
   "source": [
    "stats.shapiro(df3[(df3[\"Alloy\"]==2)&(df3[\"Method\"]==2)][\"Response\"])"
   ]
  },
  {
   "cell_type": "code",
   "execution_count": 124,
   "id": "4371b1b7",
   "metadata": {},
   "outputs": [
    {
     "data": {
      "text/plain": [
       "True"
      ]
     },
     "execution_count": 124,
     "metadata": {},
     "output_type": "execute_result"
    }
   ],
   "source": [
    "0.001051110913977027<0.05"
   ]
  },
  {
   "cell_type": "code",
   "execution_count": 125,
   "id": "f01abacb",
   "metadata": {},
   "outputs": [
    {
     "data": {
      "text/plain": [
       "ShapiroResult(statistic=0.9021322131156921, pvalue=0.1025901660323143)"
      ]
     },
     "execution_count": 125,
     "metadata": {},
     "output_type": "execute_result"
    }
   ],
   "source": [
    "stats.shapiro(df3[(df3[\"Alloy\"]==2)&(df3[\"Method\"]==3)][\"Response\"])"
   ]
  },
  {
   "cell_type": "code",
   "execution_count": 126,
   "id": "f3ecb069",
   "metadata": {},
   "outputs": [
    {
     "data": {
      "text/plain": [
       "False"
      ]
     },
     "execution_count": 126,
     "metadata": {},
     "output_type": "execute_result"
    }
   ],
   "source": [
    "0.1025901660323143<0.05"
   ]
  },
  {
   "cell_type": "markdown",
   "id": "b8cdf1d9",
   "metadata": {},
   "source": [
    "Alloy 2 with all method type except method 2 is normally distributed."
   ]
  },
  {
   "cell_type": "markdown",
   "id": "f582dee7",
   "metadata": {},
   "source": [
    "### Alloy 1 with temp"
   ]
  },
  {
   "cell_type": "code",
   "execution_count": 127,
   "id": "74151ff6",
   "metadata": {},
   "outputs": [
    {
     "data": {
      "text/plain": [
       "ShapiroResult(statistic=0.7600352764129639, pvalue=0.001179991289973259)"
      ]
     },
     "execution_count": 127,
     "metadata": {},
     "output_type": "execute_result"
    }
   ],
   "source": [
    "stats.shapiro(df3[(df3[\"Alloy\"]==1)&(df3[\"Temp\"]==1500)][\"Response\"])"
   ]
  },
  {
   "cell_type": "code",
   "execution_count": 128,
   "id": "fc2f88e7",
   "metadata": {},
   "outputs": [
    {
     "data": {
      "text/plain": [
       "True"
      ]
     },
     "execution_count": 128,
     "metadata": {},
     "output_type": "execute_result"
    }
   ],
   "source": [
    "0.001179991289973259<0.05"
   ]
  },
  {
   "cell_type": "code",
   "execution_count": 129,
   "id": "fde00511",
   "metadata": {},
   "outputs": [
    {
     "data": {
      "text/plain": [
       "ShapiroResult(statistic=0.9596877098083496, pvalue=0.6869674324989319)"
      ]
     },
     "execution_count": 129,
     "metadata": {},
     "output_type": "execute_result"
    }
   ],
   "source": [
    "stats.shapiro(df3[(df3[\"Alloy\"]==1)&(df3[\"Temp\"]==1600)][\"Response\"])"
   ]
  },
  {
   "cell_type": "code",
   "execution_count": 130,
   "id": "aeb15fcf",
   "metadata": {},
   "outputs": [
    {
     "data": {
      "text/plain": [
       "False"
      ]
     },
     "execution_count": 130,
     "metadata": {},
     "output_type": "execute_result"
    }
   ],
   "source": [
    "0.6869674324989319<0.05"
   ]
  },
  {
   "cell_type": "code",
   "execution_count": 131,
   "id": "40fb4390",
   "metadata": {},
   "outputs": [
    {
     "data": {
      "text/plain": [
       "ShapiroResult(statistic=0.7676342129707336, pvalue=0.0014549640472978354)"
      ]
     },
     "execution_count": 131,
     "metadata": {},
     "output_type": "execute_result"
    }
   ],
   "source": [
    "stats.shapiro(df3[(df3[\"Alloy\"]==1)&(df3[\"Temp\"]==1700)][\"Response\"])"
   ]
  },
  {
   "cell_type": "code",
   "execution_count": 132,
   "id": "f91b579d",
   "metadata": {},
   "outputs": [
    {
     "data": {
      "text/plain": [
       "True"
      ]
     },
     "execution_count": 132,
     "metadata": {},
     "output_type": "execute_result"
    }
   ],
   "source": [
    "0.0014549640472978354<0.05"
   ]
  },
  {
   "cell_type": "markdown",
   "id": "f362be2c",
   "metadata": {},
   "source": [
    "The temperature group 1500 and 1700 are not normally distributed."
   ]
  },
  {
   "cell_type": "markdown",
   "id": "e64b2e4e",
   "metadata": {},
   "source": [
    "### Alloy 2 with temp"
   ]
  },
  {
   "cell_type": "code",
   "execution_count": 133,
   "id": "05d93811",
   "metadata": {},
   "outputs": [
    {
     "data": {
      "text/plain": [
       "ShapiroResult(statistic=0.9502270817756653, pvalue=0.5280351042747498)"
      ]
     },
     "execution_count": 133,
     "metadata": {},
     "output_type": "execute_result"
    }
   ],
   "source": [
    "stats.shapiro(df3[(df3[\"Alloy\"]==2)&(df3[\"Temp\"]==1500)][\"Response\"])"
   ]
  },
  {
   "cell_type": "code",
   "execution_count": 134,
   "id": "f705b7bb",
   "metadata": {},
   "outputs": [
    {
     "data": {
      "text/plain": [
       "False"
      ]
     },
     "execution_count": 134,
     "metadata": {},
     "output_type": "execute_result"
    }
   ],
   "source": [
    "0.5280351042747498<0.05"
   ]
  },
  {
   "cell_type": "code",
   "execution_count": 135,
   "id": "ccc5e112",
   "metadata": {},
   "outputs": [
    {
     "data": {
      "text/plain": [
       "ShapiroResult(statistic=0.8828278183937073, pvalue=0.052296675741672516)"
      ]
     },
     "execution_count": 135,
     "metadata": {},
     "output_type": "execute_result"
    }
   ],
   "source": [
    "stats.shapiro(df3[(df3[\"Alloy\"]==2)&(df3[\"Temp\"]==1600)][\"Response\"])"
   ]
  },
  {
   "cell_type": "code",
   "execution_count": 136,
   "id": "36af1a65",
   "metadata": {},
   "outputs": [
    {
     "data": {
      "text/plain": [
       "False"
      ]
     },
     "execution_count": 136,
     "metadata": {},
     "output_type": "execute_result"
    }
   ],
   "source": [
    "0.052296675741672516<0.05"
   ]
  },
  {
   "cell_type": "code",
   "execution_count": 137,
   "id": "c8a8bd3d",
   "metadata": {},
   "outputs": [
    {
     "data": {
      "text/plain": [
       "ShapiroResult(statistic=0.8028314709663391, pvalue=0.003997983876615763)"
      ]
     },
     "execution_count": 137,
     "metadata": {},
     "output_type": "execute_result"
    }
   ],
   "source": [
    "stats.shapiro(df3[(df3[\"Alloy\"]==2)&(df3[\"Temp\"]==1700)][\"Response\"])"
   ]
  },
  {
   "cell_type": "code",
   "execution_count": 138,
   "id": "a497a2d2",
   "metadata": {},
   "outputs": [
    {
     "data": {
      "text/plain": [
       "True"
      ]
     },
     "execution_count": 138,
     "metadata": {},
     "output_type": "execute_result"
    }
   ],
   "source": [
    "0.003997983876615763<0.05"
   ]
  },
  {
   "cell_type": "markdown",
   "id": "a5720548",
   "metadata": {},
   "source": [
    "The 1700 Temperature Group is not normally distributed."
   ]
  },
  {
   "cell_type": "markdown",
   "id": "fb919eea",
   "metadata": {},
   "source": [
    "Lets take the failed cases for method and dentists and add another factor to check the normality."
   ]
  },
  {
   "cell_type": "markdown",
   "id": "f9d1339f",
   "metadata": {},
   "source": [
    "### Failed Case 1"
   ]
  },
  {
   "cell_type": "code",
   "execution_count": 139,
   "id": "45aaaeee",
   "metadata": {},
   "outputs": [
    {
     "data": {
      "text/plain": [
       "ShapiroResult(statistic=0.7613219022750854, pvalue=0.007332688197493553)"
      ]
     },
     "execution_count": 139,
     "metadata": {},
     "output_type": "execute_result"
    }
   ],
   "source": [
    "stats.shapiro(df3[(df3[\"Alloy\"]==2)&(df3[\"Dentist\"]==4)][\"Response\"])"
   ]
  },
  {
   "cell_type": "code",
   "execution_count": 140,
   "id": "16967888",
   "metadata": {},
   "outputs": [
    {
     "data": {
      "text/plain": [
       "ShapiroResult(statistic=0.9907512664794922, pvalue=0.8160430788993835)"
      ]
     },
     "execution_count": 140,
     "metadata": {},
     "output_type": "execute_result"
    }
   ],
   "source": [
    "stats.shapiro(df3[(df3[\"Alloy\"]==2)&(df3[\"Dentist\"]==4)&(df3[\"Method\"]==1)][\"Response\"])"
   ]
  },
  {
   "cell_type": "code",
   "execution_count": 141,
   "id": "8af8754e",
   "metadata": {},
   "outputs": [
    {
     "data": {
      "text/plain": [
       "ShapiroResult(statistic=0.8995017409324646, pvalue=0.383916437625885)"
      ]
     },
     "execution_count": 141,
     "metadata": {},
     "output_type": "execute_result"
    }
   ],
   "source": [
    "stats.shapiro(df3[(df3[\"Alloy\"]==2)&(df3[\"Dentist\"]==4)&(df3[\"Method\"]==2)][\"Response\"])"
   ]
  },
  {
   "cell_type": "code",
   "execution_count": 142,
   "id": "989cea56",
   "metadata": {},
   "outputs": [
    {
     "data": {
      "text/plain": [
       "ShapiroResult(statistic=0.8900450468063354, pvalue=0.35447922348976135)"
      ]
     },
     "execution_count": 142,
     "metadata": {},
     "output_type": "execute_result"
    }
   ],
   "source": [
    "stats.shapiro(df3[(df3[\"Alloy\"]==2)&(df3[\"Dentist\"]==4)&(df3[\"Method\"]==3)][\"Response\"])"
   ]
  },
  {
   "cell_type": "markdown",
   "id": "c7e4dd6b",
   "metadata": {},
   "source": [
    "### Failed Case 2"
   ]
  },
  {
   "cell_type": "code",
   "execution_count": 143,
   "id": "95f9c9a6",
   "metadata": {},
   "outputs": [
    {
     "data": {
      "text/plain": [
       "ShapiroResult(statistic=0.755793035030365, pvalue=0.001051110913977027)"
      ]
     },
     "execution_count": 143,
     "metadata": {},
     "output_type": "execute_result"
    }
   ],
   "source": [
    "stats.shapiro(df3[(df3[\"Alloy\"]==2)&(df3[\"Method\"]==2)][\"Response\"])"
   ]
  },
  {
   "cell_type": "code",
   "execution_count": 144,
   "id": "b8a26c2c",
   "metadata": {},
   "outputs": [
    {
     "data": {
      "text/plain": [
       "ShapiroResult(statistic=0.8421052694320679, pvalue=0.219557985663414)"
      ]
     },
     "execution_count": 144,
     "metadata": {},
     "output_type": "execute_result"
    }
   ],
   "source": [
    "stats.shapiro(df3[(df3[\"Alloy\"]==2)&(df3[\"Method\"]==2)&(df3[\"Dentist\"]==1)][\"Response\"])"
   ]
  },
  {
   "cell_type": "code",
   "execution_count": 145,
   "id": "665bd652",
   "metadata": {},
   "outputs": [
    {
     "data": {
      "text/plain": [
       "ShapiroResult(statistic=0.9095803499221802, pvalue=0.4166799485683441)"
      ]
     },
     "execution_count": 145,
     "metadata": {},
     "output_type": "execute_result"
    }
   ],
   "source": [
    "stats.shapiro(df3[(df3[\"Alloy\"]==2)&(df3[\"Method\"]==2)&(df3[\"Dentist\"]==2)][\"Response\"])"
   ]
  },
  {
   "cell_type": "code",
   "execution_count": 146,
   "id": "0cc5ec83",
   "metadata": {},
   "outputs": [
    {
     "data": {
      "text/plain": [
       "ShapiroResult(statistic=0.9723075032234192, pvalue=0.6806928515434265)"
      ]
     },
     "execution_count": 146,
     "metadata": {},
     "output_type": "execute_result"
    }
   ],
   "source": [
    "stats.shapiro(df3[(df3[\"Alloy\"]==2)&(df3[\"Method\"]==2)&(df3[\"Dentist\"]==3)][\"Response\"])"
   ]
  },
  {
   "cell_type": "code",
   "execution_count": 147,
   "id": "d9a90dee",
   "metadata": {},
   "outputs": [
    {
     "data": {
      "text/plain": [
       "ShapiroResult(statistic=0.8995017409324646, pvalue=0.383916437625885)"
      ]
     },
     "execution_count": 147,
     "metadata": {},
     "output_type": "execute_result"
    }
   ],
   "source": [
    "stats.shapiro(df3[(df3[\"Alloy\"]==2)&(df3[\"Method\"]==2)&(df3[\"Dentist\"]==4)][\"Response\"])"
   ]
  },
  {
   "cell_type": "code",
   "execution_count": 148,
   "id": "8505ac18",
   "metadata": {},
   "outputs": [
    {
     "data": {
      "text/plain": [
       "ShapiroResult(statistic=0.8248403668403625, pvalue=0.1752912998199463)"
      ]
     },
     "execution_count": 148,
     "metadata": {},
     "output_type": "execute_result"
    }
   ],
   "source": [
    "stats.shapiro(df3[(df3[\"Alloy\"]==2)&(df3[\"Method\"]==2)&(df3[\"Dentist\"]==5)][\"Response\"])"
   ]
  },
  {
   "cell_type": "markdown",
   "id": "249844a1",
   "metadata": {},
   "source": [
    "### Homogenous Variance Assumption\n",
    "#### H0: The Variance are equal\n",
    "#### H1: The Variance are Unequal"
   ]
  },
  {
   "cell_type": "markdown",
   "id": "df3d468f",
   "metadata": {},
   "source": [
    "### Alloy"
   ]
  },
  {
   "cell_type": "code",
   "execution_count": 149,
   "id": "21e614fa",
   "metadata": {},
   "outputs": [
    {
     "data": {
      "text/plain": [
       "LeveneResult(statistic=1.4194717470917784, pvalue=0.23669380462584474)"
      ]
     },
     "execution_count": 149,
     "metadata": {},
     "output_type": "execute_result"
    }
   ],
   "source": [
    "stats.levene(df3[df3[\"Alloy\"]==1][\"Response\"],df3[df3[\"Alloy\"]==2][\"Response\"])"
   ]
  },
  {
   "cell_type": "code",
   "execution_count": 150,
   "id": "b20768ae",
   "metadata": {},
   "outputs": [
    {
     "data": {
      "text/plain": [
       "False"
      ]
     },
     "execution_count": 150,
     "metadata": {},
     "output_type": "execute_result"
    }
   ],
   "source": [
    "0.23669380462584474<0.05"
   ]
  },
  {
   "cell_type": "markdown",
   "id": "f9699fc8",
   "metadata": {},
   "source": [
    "The variance are equal for both alloys"
   ]
  },
  {
   "cell_type": "markdown",
   "id": "4c46df76",
   "metadata": {},
   "source": [
    "### Dentist"
   ]
  },
  {
   "cell_type": "code",
   "execution_count": 151,
   "id": "7ecf2cce",
   "metadata": {},
   "outputs": [
    {
     "data": {
      "text/plain": [
       "LeveneResult(statistic=3.7082282441933954, pvalue=0.007858817382355401)"
      ]
     },
     "execution_count": 151,
     "metadata": {},
     "output_type": "execute_result"
    }
   ],
   "source": [
    "stats.levene(df3[df3[\"Dentist\"]==1][\"Response\"],df3[df3[\"Dentist\"]==2][\"Response\"],df3[df3[\"Dentist\"]==3][\"Response\"],df3[df3[\"Dentist\"]==4][\"Response\"],df3[df3[\"Dentist\"]==5][\"Response\"])"
   ]
  },
  {
   "cell_type": "code",
   "execution_count": 152,
   "id": "83ecc6ae",
   "metadata": {},
   "outputs": [
    {
     "data": {
      "text/plain": [
       "True"
      ]
     },
     "execution_count": 152,
     "metadata": {},
     "output_type": "execute_result"
    }
   ],
   "source": [
    "0.007858817382355401 < 0.05"
   ]
  },
  {
   "cell_type": "markdown",
   "id": "b0f963b2",
   "metadata": {},
   "source": [
    "#### Method"
   ]
  },
  {
   "cell_type": "code",
   "execution_count": 153,
   "id": "8106ba34",
   "metadata": {},
   "outputs": [
    {
     "data": {
      "text/plain": [
       "LeveneResult(statistic=5.848571977210466, pvalue=0.004138452940152019)"
      ]
     },
     "execution_count": 153,
     "metadata": {},
     "output_type": "execute_result"
    }
   ],
   "source": [
    "stats.levene(df3[df3[\"Method\"]==1][\"Response\"],df3[df3[\"Method\"]==2][\"Response\"],df3[df3[\"Method\"]==3][\"Response\"])"
   ]
  },
  {
   "cell_type": "code",
   "execution_count": 154,
   "id": "e04c541f",
   "metadata": {},
   "outputs": [
    {
     "data": {
      "text/plain": [
       "True"
      ]
     },
     "execution_count": 154,
     "metadata": {},
     "output_type": "execute_result"
    }
   ],
   "source": [
    "0.004138452940152019<0.05"
   ]
  },
  {
   "cell_type": "markdown",
   "id": "88405aa6",
   "metadata": {},
   "source": [
    "The Variance are not equal for Dentist and Method."
   ]
  },
  {
   "cell_type": "code",
   "execution_count": 155,
   "id": "5e9bbda5",
   "metadata": {},
   "outputs": [
    {
     "data": {
      "text/plain": [
       "LeveneResult(statistic=0.47058724898085974, pvalue=0.6262159309741129)"
      ]
     },
     "execution_count": 155,
     "metadata": {},
     "output_type": "execute_result"
    }
   ],
   "source": [
    "stats.levene(df3[df3[\"Temp\"]==1500][\"Response\"],df3[df3[\"Temp\"]==1600][\"Response\"],df3[df3[\"Temp\"]==1700][\"Response\"])"
   ]
  },
  {
   "cell_type": "code",
   "execution_count": 156,
   "id": "7debdb5b",
   "metadata": {},
   "outputs": [
    {
     "data": {
      "text/plain": [
       "False"
      ]
     },
     "execution_count": 156,
     "metadata": {},
     "output_type": "execute_result"
    }
   ],
   "source": [
    "0.6262159309741129<0.05"
   ]
  },
  {
   "cell_type": "markdown",
   "id": "836bf757",
   "metadata": {},
   "source": [
    "The variance are equal for all three temperature groups"
   ]
  },
  {
   "cell_type": "markdown",
   "id": "7ec058ff",
   "metadata": {},
   "source": [
    "### Alloy & Dentist"
   ]
  },
  {
   "cell_type": "code",
   "execution_count": 157,
   "id": "f4ac3438",
   "metadata": {},
   "outputs": [
    {
     "data": {
      "text/plain": [
       "LeveneResult(statistic=1.4766971937166968, pvalue=0.17090960541737582)"
      ]
     },
     "execution_count": 157,
     "metadata": {},
     "output_type": "execute_result"
    }
   ],
   "source": [
    "stats.levene(df3[(df3[\"Alloy\"]==1)&(df3[\"Dentist\"]==1)][\"Response\"],df3[(df3[\"Alloy\"]==1)&(df3[\"Dentist\"]==2)][\"Response\"],\n",
    "            df3[(df3[\"Alloy\"]==1)&(df3[\"Dentist\"]==3)][\"Response\"],df3[(df3[\"Alloy\"]==1)&(df3[\"Dentist\"]==4)][\"Response\"],\n",
    "            df3[(df3[\"Alloy\"]==1)&(df3[\"Dentist\"]==5)][\"Response\"],df3[(df3[\"Alloy\"]==2)&(df3[\"Dentist\"]==1)][\"Response\"],\n",
    "            df3[(df3[\"Alloy\"]==2)&(df3[\"Dentist\"]==2)][\"Response\"],df3[(df3[\"Alloy\"]==2)&(df3[\"Dentist\"]==3)][\"Response\"],\n",
    "            df3[(df3[\"Alloy\"]==2)&(df3[\"Dentist\"]==4)][\"Response\"],df3[(df3[\"Alloy\"]==2)&(df3[\"Dentist\"]==5)][\"Response\"])"
   ]
  },
  {
   "cell_type": "code",
   "execution_count": 158,
   "id": "63edf3b4",
   "metadata": {},
   "outputs": [
    {
     "data": {
      "text/plain": [
       "False"
      ]
     },
     "execution_count": 158,
     "metadata": {},
     "output_type": "execute_result"
    }
   ],
   "source": [
    "0.17090960541737582 < 0.05"
   ]
  },
  {
   "cell_type": "markdown",
   "id": "3d47687f",
   "metadata": {},
   "source": [
    "The Variance are equal for Groups of Alloys and Dentist."
   ]
  },
  {
   "cell_type": "markdown",
   "id": "e00df033",
   "metadata": {},
   "source": [
    "#### Alloy & Method"
   ]
  },
  {
   "cell_type": "code",
   "execution_count": 159,
   "id": "a6f68678",
   "metadata": {},
   "outputs": [
    {
     "data": {
      "text/plain": [
       "LeveneResult(statistic=3.7365314257087174, pvalue=0.004199811796274289)"
      ]
     },
     "execution_count": 159,
     "metadata": {},
     "output_type": "execute_result"
    }
   ],
   "source": [
    "stats.levene(df3[(df3[\"Alloy\"]==1)&(df3[\"Method\"]==1)][\"Response\"],df3[(df3[\"Alloy\"]==1)&(df3[\"Method\"]==2)][\"Response\"],\n",
    "             df3[(df3[\"Alloy\"]==1)&(df3[\"Method\"]==3)][\"Response\"],df3[(df3[\"Alloy\"]==2)&(df3[\"Method\"]==1)][\"Response\"],\n",
    "             df3[(df3[\"Alloy\"]==2)&(df3[\"Method\"]==2)][\"Response\"],df3[(df3[\"Alloy\"]==2)&(df3[\"Method\"]==3)][\"Response\"])"
   ]
  },
  {
   "cell_type": "code",
   "execution_count": 160,
   "id": "ba699451",
   "metadata": {},
   "outputs": [
    {
     "data": {
      "text/plain": [
       "True"
      ]
     },
     "execution_count": 160,
     "metadata": {},
     "output_type": "execute_result"
    }
   ],
   "source": [
    "0.004199811796274289 < 0.05"
   ]
  },
  {
   "cell_type": "markdown",
   "id": "cd50bbb4",
   "metadata": {},
   "source": [
    "The Variance are not equal for Groups of Alloys and Methods."
   ]
  },
  {
   "cell_type": "markdown",
   "id": "6bf200e3",
   "metadata": {},
   "source": [
    "<font color = \"blue\">\n",
    "<font size = 5>\n",
    "7.3 Irrespective of your conclusion in 2, we will continue with the testing procedure. What do you conclude regarding whether implant hardness depends on dentists? Clearly state your conclusion. If the null hypothesis is rejected, is it possible to identify which pairs of dentists differ?"
   ]
  },
  {
   "cell_type": "code",
   "execution_count": 161,
   "id": "1fb50735",
   "metadata": {},
   "outputs": [],
   "source": [
    "from statsmodels.formula.api import ols\n",
    "from statsmodels.stats.anova import _get_covariance,anova_lm"
   ]
  },
  {
   "cell_type": "markdown",
   "id": "6a076b6a",
   "metadata": {},
   "source": [
    "### Alloy 1"
   ]
  },
  {
   "cell_type": "code",
   "execution_count": 162,
   "id": "b002a03a",
   "metadata": {},
   "outputs": [
    {
     "name": "stdout",
     "output_type": "stream",
     "text": [
      "              df         sum_sq       mean_sq         F    PR(>F)\n",
      "C(Dentist)   4.0  106683.688889  26670.922222  1.977112  0.116567\n",
      "Residual    40.0  539593.555556  13489.838889       NaN       NaN\n"
     ]
    }
   ],
   "source": [
    "formula = 'Response~C(Dentist)'\n",
    "model = ols(formula,df3[df3[\"Alloy\"]==1]).fit()\n",
    "anova_table = anova_lm(model)\n",
    "print(anova_table)"
   ]
  },
  {
   "cell_type": "code",
   "execution_count": 163,
   "id": "d58cf6a7",
   "metadata": {},
   "outputs": [
    {
     "data": {
      "text/plain": [
       "False"
      ]
     },
     "execution_count": 163,
     "metadata": {},
     "output_type": "execute_result"
    }
   ],
   "source": [
    "0.116567< 0.05"
   ]
  },
  {
   "cell_type": "markdown",
   "id": "f7333489",
   "metadata": {},
   "source": [
    "There is no difference among the dentiststs on the implant hardness in alloy 1"
   ]
  },
  {
   "cell_type": "markdown",
   "id": "7d031c02",
   "metadata": {},
   "source": [
    "### Alloy 2"
   ]
  },
  {
   "cell_type": "code",
   "execution_count": 164,
   "id": "1de5ecd1",
   "metadata": {},
   "outputs": [
    {
     "name": "stdout",
     "output_type": "stream",
     "text": [
      "              df        sum_sq       mean_sq         F    PR(>F)\n",
      "C(Dentist)   4.0  5.679791e+04  14199.477778  0.524835  0.718031\n",
      "Residual    40.0  1.082205e+06  27055.122222       NaN       NaN\n"
     ]
    }
   ],
   "source": [
    "formula = 'Response~C(Dentist)'\n",
    "model = ols(formula,df3[df3[\"Alloy\"]==2]).fit()\n",
    "anova_table = anova_lm(model)\n",
    "print(anova_table)"
   ]
  },
  {
   "cell_type": "code",
   "execution_count": 165,
   "id": "3aba719c",
   "metadata": {},
   "outputs": [
    {
     "data": {
      "text/plain": [
       "False"
      ]
     },
     "execution_count": 165,
     "metadata": {},
     "output_type": "execute_result"
    }
   ],
   "source": [
    "0.718031<0.05"
   ]
  },
  {
   "cell_type": "markdown",
   "id": "3ae475cf",
   "metadata": {},
   "source": [
    "There is no difference among the dentiststs on the implant hardness in alloy 2"
   ]
  },
  {
   "cell_type": "markdown",
   "id": "30a1183c",
   "metadata": {},
   "source": [
    "<font color = \"blue\">\n",
    "<font size = 5>\n",
    "7.4 Now test whether there is any difference among the methods on the hardness of dental implant, separately for the two types of alloys. What are your conclusions? If the null hypothesis is rejected, is it possible to identify which pairs of methods differ?"
   ]
  },
  {
   "cell_type": "markdown",
   "id": "d64bb296",
   "metadata": {},
   "source": [
    "### Alloy 1"
   ]
  },
  {
   "cell_type": "code",
   "execution_count": 166,
   "id": "b92ff1ca",
   "metadata": {},
   "outputs": [
    {
     "name": "stdout",
     "output_type": "stream",
     "text": [
      "             df         sum_sq       mean_sq         F    PR(>F)\n",
      "C(Method)   2.0  148472.177778  74236.088889  6.263327  0.004163\n",
      "Residual   42.0  497805.066667  11852.501587       NaN       NaN\n"
     ]
    }
   ],
   "source": [
    "formula = 'Response~C(Method)'\n",
    "model = ols(formula,df3[df3[\"Alloy\"]==1]).fit()\n",
    "anova_table = anova_lm(model)\n",
    "print(anova_table)"
   ]
  },
  {
   "cell_type": "code",
   "execution_count": 167,
   "id": "0b4d5d5f",
   "metadata": {},
   "outputs": [
    {
     "data": {
      "text/plain": [
       "True"
      ]
     },
     "execution_count": 167,
     "metadata": {},
     "output_type": "execute_result"
    }
   ],
   "source": [
    "0.004163<0.05"
   ]
  },
  {
   "cell_type": "markdown",
   "id": "7560336b",
   "metadata": {},
   "source": [
    "There is difference in implant hardness among methods in alloy 1"
   ]
  },
  {
   "cell_type": "markdown",
   "id": "00bfacbc",
   "metadata": {},
   "source": [
    "### Alloy 2"
   ]
  },
  {
   "cell_type": "code",
   "execution_count": 168,
   "id": "47394b4d",
   "metadata": {},
   "outputs": [
    {
     "name": "stdout",
     "output_type": "stream",
     "text": [
      "             df    sum_sq        mean_sq        F    PR(>F)\n",
      "C(Method)   2.0  499640.4  249820.200000  16.4108  0.000005\n",
      "Residual   42.0  639362.4   15222.914286      NaN       NaN\n"
     ]
    }
   ],
   "source": [
    "formula = 'Response~C(Method)'\n",
    "model = ols(formula,df3[df3[\"Alloy\"]==2]).fit()\n",
    "anova_table = anova_lm(model)\n",
    "print(anova_table)"
   ]
  },
  {
   "cell_type": "code",
   "execution_count": 169,
   "id": "376a2f8e",
   "metadata": {},
   "outputs": [
    {
     "data": {
      "text/plain": [
       "True"
      ]
     },
     "execution_count": 169,
     "metadata": {},
     "output_type": "execute_result"
    }
   ],
   "source": [
    "0.000005 < 0.05"
   ]
  },
  {
   "cell_type": "markdown",
   "id": "ccc69da9",
   "metadata": {},
   "source": [
    "There is difference in implant hardness among methods in alloy 2"
   ]
  },
  {
   "cell_type": "code",
   "execution_count": 170,
   "id": "d97955a7",
   "metadata": {},
   "outputs": [
    {
     "name": "stdout",
     "output_type": "stream",
     "text": [
      "  Multiple Comparison of Means - Tukey HSD, FWER=0.05   \n",
      "========================================================\n",
      "group1 group2  meandiff p-adj    lower    upper   reject\n",
      "--------------------------------------------------------\n",
      "     1      2   -6.1333  0.987  -102.714  90.4473  False\n",
      "     1      3    -124.8 0.0085 -221.3807 -28.2193   True\n",
      "     2      3 -118.6667 0.0128 -215.2473  -22.086   True\n",
      "--------------------------------------------------------\n"
     ]
    }
   ],
   "source": [
    "import statsmodels.sandbox.stats.multicomp as ml\n",
    "print(ml.MultiComparison(df3[df3[\"Alloy\"]==1]['Response'],df3[df3[\"Alloy\"]==1]['Method']).tukeyhsd(0.05))"
   ]
  },
  {
   "cell_type": "code",
   "execution_count": 171,
   "id": "e98a6541",
   "metadata": {},
   "outputs": [
    {
     "name": "stdout",
     "output_type": "stream",
     "text": [
      "  Multiple Comparison of Means - Tukey HSD, FWER=0.05   \n",
      "========================================================\n",
      "group1 group2 meandiff p-adj    lower     upper   reject\n",
      "--------------------------------------------------------\n",
      "     1      2     27.0 0.8212  -82.4546  136.4546  False\n",
      "     1      3   -208.8 0.0001 -318.2546  -99.3454   True\n",
      "     2      3   -235.8    0.0 -345.2546 -126.3454   True\n",
      "--------------------------------------------------------\n"
     ]
    }
   ],
   "source": [
    "print(ml.MultiComparison(df3[df3[\"Alloy\"]==2]['Response'],df3[df3[\"Alloy\"]==2]['Method']).tukeyhsd(0.05))"
   ]
  },
  {
   "cell_type": "markdown",
   "id": "525336c6",
   "metadata": {},
   "source": [
    "In Both the Alloy, Pair(1,3) and (2,3) has difference in mean implant hardness."
   ]
  },
  {
   "cell_type": "markdown",
   "id": "1af42e8c",
   "metadata": {},
   "source": [
    "<font color = \"blue\">\n",
    "<font size = 5>\n",
    "7.5 Now test whether there is any difference among the temperature levels on the hardness of dental implant, separately for the two types of alloys. What are your conclusions? If the null hypothesis is rejected, is it possible to identify which levels of temperatures differ?"
   ]
  },
  {
   "cell_type": "code",
   "execution_count": 172,
   "id": "51228c83",
   "metadata": {},
   "outputs": [
    {
     "name": "stdout",
     "output_type": "stream",
     "text": [
      "            df         sum_sq       mean_sq         F    PR(>F)\n",
      "C(Temp)    2.0   10154.444444   5077.222222  0.335224  0.717074\n",
      "Residual  42.0  636122.800000  15145.780952       NaN       NaN\n"
     ]
    }
   ],
   "source": [
    "formula = 'Response~C(Temp)'\n",
    "model = ols(formula,df3[df3[\"Alloy\"]==1]).fit()\n",
    "anova_table = anova_lm(model)\n",
    "print(anova_table)"
   ]
  },
  {
   "cell_type": "markdown",
   "id": "7ab635da",
   "metadata": {},
   "source": [
    "there is no difference among the temperature levels on the hardness of dental implant in alloy 1"
   ]
  },
  {
   "cell_type": "code",
   "execution_count": 173,
   "id": "c17adf01",
   "metadata": {},
   "outputs": [
    {
     "name": "stdout",
     "output_type": "stream",
     "text": [
      "            df        sum_sq       mean_sq         F    PR(>F)\n",
      "C(Temp)    2.0  9.374893e+04  46874.466667  1.883492  0.164678\n",
      "Residual  42.0  1.045254e+06  24886.996825       NaN       NaN\n"
     ]
    }
   ],
   "source": [
    "formula = 'Response~C(Temp)'\n",
    "model = ols(formula,df3[df3[\"Alloy\"]==2]).fit()\n",
    "anova_table = anova_lm(model)\n",
    "print(anova_table)"
   ]
  },
  {
   "cell_type": "markdown",
   "id": "3dcf71e3",
   "metadata": {},
   "source": [
    "there is no difference among the temperature levels on the hardness of dental implant in alloy 2"
   ]
  },
  {
   "cell_type": "markdown",
   "id": "e967eaef",
   "metadata": {},
   "source": [
    "<font color = \"blue\">\n",
    "<font size = 5>\n",
    "7.6 Consider the interaction effect of dentist and method and comment on the interaction plot, separately for the two types of alloys?"
   ]
  },
  {
   "cell_type": "code",
   "execution_count": 174,
   "id": "5c764a64",
   "metadata": {},
   "outputs": [
    {
     "name": "stderr",
     "output_type": "stream",
     "text": [
      "C:\\Users\\skrsk\\AppData\\Local\\Temp\\ipykernel_14812\\1573769250.py:2: FutureWarning: \n",
      "\n",
      "The `ci` parameter is deprecated. Use `errorbar=None` for the same effect.\n",
      "\n",
      "  sns.pointplot(y='Response', x='Dentist', data=df3[df3[\"Alloy\"]==1],ci=None,hue = 'Method')\n"
     ]
    },
    {
     "data": {
      "text/plain": [
       "Text(0.5, 1.0, 'Interaction Plot for dentist and method(Alloy 1)')"
      ]
     },
     "execution_count": 174,
     "metadata": {},
     "output_type": "execute_result"
    },
    {
     "data": {
      "image/png": "[encoded data removed]",
      "text/plain": [
       "<Figure size 800x800 with 1 Axes>"
      ]
     },
     "metadata": {},
     "output_type": "display_data"
    }
   ],
   "source": [
    "fig,axes = plt.subplots(figsize = (8,8))\n",
    "sns.pointplot(y='Response', x='Dentist', data=df3[df3[\"Alloy\"]==1],ci=None,hue = 'Method')\n",
    "axes.set_title(\"Interaction Plot for dentist and method(Alloy 1)\")"
   ]
  },
  {
   "cell_type": "code",
   "execution_count": 175,
   "id": "609254c6",
   "metadata": {},
   "outputs": [
    {
     "name": "stderr",
     "output_type": "stream",
     "text": [
      "C:\\Users\\skrsk\\AppData\\Local\\Temp\\ipykernel_14812\\3655127107.py:2: FutureWarning: \n",
      "\n",
      "The `ci` parameter is deprecated. Use `errorbar=None` for the same effect.\n",
      "\n",
      "  sns.pointplot(y='Response', x='Dentist', data=df3[df3[\"Alloy\"]==2],ci=None,hue = 'Method')\n"
     ]
    },
    {
     "data": {
      "text/plain": [
       "Text(0.5, 1.0, 'Interaction Plot for dentist and method(Alloy 2)')"
      ]
     },
     "execution_count": 175,
     "metadata": {},
     "output_type": "execute_result"
    },
    {
     "data": {
      "image/png": "[encoded data removed]",
      "text/plain": [
       "<Figure size 800x800 with 1 Axes>"
      ]
     },
     "metadata": {},
     "output_type": "display_data"
    }
   ],
   "source": [
    "fig,axes = plt.subplots(figsize = (8,8))\n",
    "sns.pointplot(y='Response', x='Dentist', data=df3[df3[\"Alloy\"]==2],ci=None,hue = 'Method')\n",
    "axes.set_title(\"Interaction Plot for dentist and method(Alloy 2)\")"
   ]
  },
  {
   "cell_type": "markdown",
   "id": "7dfb0a4e",
   "metadata": {},
   "source": [
    "### H0: There is no Interaction among dentist and method\n",
    "### H1: There is an Interaction among dentist and method"
   ]
  },
  {
   "cell_type": "code",
   "execution_count": 176,
   "id": "f6163770",
   "metadata": {},
   "outputs": [
    {
     "name": "stdout",
     "output_type": "stream",
     "text": [
      "                        df         sum_sq       mean_sq          F    PR(>F)\n",
      "C(Dentist)             4.0  106683.688889  26670.922222   3.899638  0.011484\n",
      "C(Method)              2.0  148472.177778  74236.088889  10.854287  0.000284\n",
      "C(Dentist):C(Method)   8.0  185941.377778  23242.672222   3.398383  0.006793\n",
      "Residual              30.0  205180.000000   6839.333333        NaN       NaN\n"
     ]
    }
   ],
   "source": [
    "formula = 'Response~C(Dentist)+C(Method)+C(Dentist):C(Method)'\n",
    "model = ols(formula,df3[df3[\"Alloy\"]==1]).fit()\n",
    "anova_table = anova_lm(model)\n",
    "print(anova_table)"
   ]
  },
  {
   "cell_type": "code",
   "execution_count": 177,
   "id": "3f04f078",
   "metadata": {
    "scrolled": true
   },
   "outputs": [
    {
     "data": {
      "text/plain": [
       "True"
      ]
     },
     "execution_count": 177,
     "metadata": {},
     "output_type": "execute_result"
    }
   ],
   "source": [
    "0.006793<0.05"
   ]
  },
  {
   "cell_type": "markdown",
   "id": "1478eb63",
   "metadata": {},
   "source": [
    "There is an Interaction among dentist and method in alloy 1"
   ]
  },
  {
   "cell_type": "code",
   "execution_count": 178,
   "id": "fb763567",
   "metadata": {},
   "outputs": [
    {
     "name": "stdout",
     "output_type": "stream",
     "text": [
      "                        df         sum_sq        mean_sq          F    PR(>F)\n",
      "C(Dentist)             4.0   56797.911111   14199.477778   1.106152  0.371833\n",
      "C(Method)              2.0  499640.400000  249820.200000  19.461218  0.000004\n",
      "C(Dentist):C(Method)   8.0  197459.822222   24682.477778   1.922787  0.093234\n",
      "Residual              30.0  385104.666667   12836.822222        NaN       NaN\n"
     ]
    }
   ],
   "source": [
    "formula = 'Response~C(Dentist)+C(Method)+C(Dentist):C(Method)'\n",
    "model = ols(formula,df3[df3[\"Alloy\"]==2]).fit()\n",
    "anova_table = anova_lm(model)\n",
    "print(anova_table)"
   ]
  },
  {
   "cell_type": "code",
   "execution_count": 179,
   "id": "00d4cb53",
   "metadata": {},
   "outputs": [
    {
     "data": {
      "text/plain": [
       "False"
      ]
     },
     "execution_count": 179,
     "metadata": {},
     "output_type": "execute_result"
    }
   ],
   "source": [
    "0.093234<0.05"
   ]
  },
  {
   "cell_type": "code",
   "execution_count": 180,
   "id": "b21e8ef6",
   "metadata": {},
   "outputs": [
    {
     "data": {
      "text/plain": [
       "True"
      ]
     },
     "execution_count": 180,
     "metadata": {},
     "output_type": "execute_result"
    }
   ],
   "source": [
    "0.093234<0.1"
   ]
  },
  {
   "cell_type": "markdown",
   "id": "0da118ac",
   "metadata": {},
   "source": [
    "There is no Interaction among dentist and method in alloy 2 with 95% confidence.\n",
    "There is Interaction among dentist and method in alloy 2 with 90% confidence."
   ]
  },
  {
   "cell_type": "markdown",
   "id": "fdd55d4a",
   "metadata": {},
   "source": [
    "<font color = \"blue\">\n",
    "<font size = 5>\n",
    "7.7 Now consider the effect of both factors, dentist, and method, separately on each alloy. What do you conclude? Is it possible to identify which dentists are different, which methods are different, and which interaction levels are different?"
   ]
  },
  {
   "cell_type": "code",
   "execution_count": 181,
   "id": "5b098b61",
   "metadata": {},
   "outputs": [
    {
     "name": "stdout",
     "output_type": "stream",
     "text": [
      "              df         sum_sq       mean_sq         F    PR(>F)\n",
      "C(Dentist)   4.0  106683.688889  26670.922222  2.591255  0.051875\n",
      "C(Method)    2.0  148472.177778  74236.088889  7.212522  0.002211\n",
      "Residual    38.0  391121.377778  10292.667836       NaN       NaN\n"
     ]
    }
   ],
   "source": [
    "formula = 'Response~C(Dentist)+C(Method)'\n",
    "model = ols(formula,df3[df3[\"Alloy\"]==1]).fit()\n",
    "anova_table = anova_lm(model)\n",
    "print(anova_table)"
   ]
  },
  {
   "cell_type": "code",
   "execution_count": 182,
   "id": "24a9b482",
   "metadata": {},
   "outputs": [
    {
     "data": {
      "text/plain": [
       "False"
      ]
     },
     "execution_count": 182,
     "metadata": {},
     "output_type": "execute_result"
    }
   ],
   "source": [
    "0.051875<0.05"
   ]
  },
  {
   "cell_type": "code",
   "execution_count": 183,
   "id": "a3886e73",
   "metadata": {},
   "outputs": [
    {
     "data": {
      "text/plain": [
       "True"
      ]
     },
     "execution_count": 183,
     "metadata": {},
     "output_type": "execute_result"
    }
   ],
   "source": [
    "0.002211<0.05"
   ]
  },
  {
   "cell_type": "markdown",
   "id": "2eb694cd",
   "metadata": {},
   "source": [
    "There is no changes in the results if we consider the effects of both factors. But when we include the interaction effect too."
   ]
  },
  {
   "cell_type": "code",
   "execution_count": 184,
   "id": "77b042e5",
   "metadata": {},
   "outputs": [
    {
     "name": "stdout",
     "output_type": "stream",
     "text": [
      "                        df         sum_sq       mean_sq          F    PR(>F)\n",
      "C(Dentist)             4.0  106683.688889  26670.922222   3.899638  0.011484\n",
      "C(Method)              2.0  148472.177778  74236.088889  10.854287  0.000284\n",
      "C(Dentist):C(Method)   8.0  185941.377778  23242.672222   3.398383  0.006793\n",
      "Residual              30.0  205180.000000   6839.333333        NaN       NaN\n"
     ]
    }
   ],
   "source": [
    "formula = 'Response~C(Dentist)+C(Method)+C(Dentist):C(Method)'\n",
    "model = ols(formula,df3[df3[\"Alloy\"]==1]).fit()\n",
    "anova_table = anova_lm(model)\n",
    "print(anova_table)"
   ]
  },
  {
   "cell_type": "code",
   "execution_count": 185,
   "id": "45a5813f",
   "metadata": {},
   "outputs": [
    {
     "data": {
      "text/plain": [
       "True"
      ]
     },
     "execution_count": 185,
     "metadata": {},
     "output_type": "execute_result"
    }
   ],
   "source": [
    "0.011484<0.05"
   ]
  },
  {
   "cell_type": "markdown",
   "id": "d73edc98",
   "metadata": {},
   "source": [
    "There is an difference in dentist in alloy 1 after including the method factor with the interaction effect."
   ]
  },
  {
   "cell_type": "code",
   "execution_count": 186,
   "id": "93e12cad",
   "metadata": {},
   "outputs": [
    {
     "name": "stdout",
     "output_type": "stream",
     "text": [
      "              df         sum_sq        mean_sq          F    PR(>F)\n",
      "C(Dentist)   4.0   56797.911111   14199.477778   0.926215  0.458933\n",
      "C(Method)    2.0  499640.400000  249820.200000  16.295479  0.000008\n",
      "Residual    38.0  582564.488889   15330.644444        NaN       NaN\n"
     ]
    }
   ],
   "source": [
    "formula = 'Response~C(Dentist)+C(Method)'\n",
    "model = ols(formula,df3[df3[\"Alloy\"]==2]).fit()\n",
    "anova_table = anova_lm(model)\n",
    "print(anova_table)"
   ]
  },
  {
   "cell_type": "code",
   "execution_count": 187,
   "id": "d1831c12",
   "metadata": {},
   "outputs": [
    {
     "data": {
      "text/plain": [
       "False"
      ]
     },
     "execution_count": 187,
     "metadata": {},
     "output_type": "execute_result"
    }
   ],
   "source": [
    "0.458933<0.05"
   ]
  },
  {
   "cell_type": "code",
   "execution_count": 188,
   "id": "31d3b94b",
   "metadata": {},
   "outputs": [
    {
     "data": {
      "text/plain": [
       "True"
      ]
     },
     "execution_count": 188,
     "metadata": {},
     "output_type": "execute_result"
    }
   ],
   "source": [
    "0.000008<0.05"
   ]
  },
  {
   "cell_type": "markdown",
   "id": "788e3cbb",
   "metadata": {},
   "source": [
    "There is no changes in the results if we consider the effects of both factors. lets include the interaction effect too."
   ]
  },
  {
   "cell_type": "code",
   "execution_count": 189,
   "id": "047ad512",
   "metadata": {},
   "outputs": [
    {
     "name": "stdout",
     "output_type": "stream",
     "text": [
      "                        df         sum_sq        mean_sq          F    PR(>F)\n",
      "C(Dentist)             4.0   56797.911111   14199.477778   1.106152  0.371833\n",
      "C(Method)              2.0  499640.400000  249820.200000  19.461218  0.000004\n",
      "C(Dentist):C(Method)   8.0  197459.822222   24682.477778   1.922787  0.093234\n",
      "Residual              30.0  385104.666667   12836.822222        NaN       NaN\n"
     ]
    }
   ],
   "source": [
    "formula = 'Response~C(Dentist)+C(Method)+C(Dentist):C(Method)'\n",
    "model = ols(formula,df3[df3[\"Alloy\"]==2]).fit()\n",
    "anova_table = anova_lm(model)\n",
    "print(anova_table)"
   ]
  },
  {
   "cell_type": "markdown",
   "id": "cae425dc",
   "metadata": {},
   "source": [
    "There is no difference in dentist after including the method factor with interaction effect in alloy 2"
   ]
  }
 ],
 "metadata": {
  "kernelspec": {
   "display_name": "Python 3 (ipykernel)",
   "language": "python",
   "name": "python3"
  },
  "language_info": {
   "codemirror_mode": {
    "name": "ipython",
    "version": 3
   },
   "file_extension": ".py",
   "mimetype": "text/x-python",
   "name": "python",
   "nbconvert_exporter": "python",
   "pygments_lexer": "ipython3",
   "version": "3.10.9"
  }
 },
 "nbformat": 4,
 "nbformat_minor": 5
}
