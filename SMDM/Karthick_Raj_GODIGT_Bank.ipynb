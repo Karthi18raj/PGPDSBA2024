{
 "cells": [
  {
   "cell_type": "code",
   "execution_count": 47,
   "id": "35bdd173",
   "metadata": {},
   "outputs": [],
   "source": [
    "import numpy as np\n",
    "import pandas as pd\n",
    "import matplotlib.pyplot as plt\n",
    "import seaborn as sns\n",
    "pd.options.display.float_format = '{:.2f}'.format"
   ]
  },
  {
   "cell_type": "code",
   "execution_count": 48,
   "id": "286fbacb",
   "metadata": {},
   "outputs": [],
   "source": [
    "df = pd.read_excel(\"godigt_cc_data .xlsx\")"
   ]
  },
  {
   "cell_type": "code",
   "execution_count": 49,
   "id": "203d068f",
   "metadata": {},
   "outputs": [
    {
     "data": {
      "text/html": [
       "<div>\n",
       "<style scoped>\n",
       "    .dataframe tbody tr th:only-of-type {\n",
       "        vertical-align: middle;\n",
       "    }\n",
       "\n",
       "    .dataframe tbody tr th {\n",
       "        vertical-align: top;\n",
       "    }\n",
       "\n",
       "    .dataframe thead th {\n",
       "        text-align: right;\n",
       "    }\n",
       "</style>\n",
       "<table border=\"1\" class=\"dataframe\">\n",
       "  <thead>\n",
       "    <tr style=\"text-align: right;\">\n",
       "      <th></th>\n",
       "      <th>userid</th>\n",
       "      <th>card_no</th>\n",
       "      <th>card_bin_no</th>\n",
       "      <th>Issuer</th>\n",
       "      <th>card_type</th>\n",
       "      <th>card_source_date</th>\n",
       "      <th>high_networth</th>\n",
       "      <th>active_30</th>\n",
       "      <th>active_60</th>\n",
       "      <th>active_90</th>\n",
       "      <th>...</th>\n",
       "      <th>bank_vintage</th>\n",
       "      <th>T+1_month_activity</th>\n",
       "      <th>T+2_month_activity</th>\n",
       "      <th>T+3_month_activity</th>\n",
       "      <th>T+6_month_activity</th>\n",
       "      <th>T+12_month_activity</th>\n",
       "      <th>Transactor_revolver</th>\n",
       "      <th>avg_spends_l3m</th>\n",
       "      <th>Occupation_at_source</th>\n",
       "      <th>cc_limit</th>\n",
       "    </tr>\n",
       "  </thead>\n",
       "  <tbody>\n",
       "    <tr>\n",
       "      <th>0</th>\n",
       "      <td>1</td>\n",
       "      <td>4384 39XX XXXX XXXX</td>\n",
       "      <td>438439</td>\n",
       "      <td>Visa</td>\n",
       "      <td>edge</td>\n",
       "      <td>2019-09-29</td>\n",
       "      <td>B</td>\n",
       "      <td>0</td>\n",
       "      <td>1</td>\n",
       "      <td>1</td>\n",
       "      <td>...</td>\n",
       "      <td>27</td>\n",
       "      <td>0</td>\n",
       "      <td>0</td>\n",
       "      <td>0</td>\n",
       "      <td>0</td>\n",
       "      <td>0</td>\n",
       "      <td>T</td>\n",
       "      <td>27729</td>\n",
       "      <td>Self Employed</td>\n",
       "      <td>290000</td>\n",
       "    </tr>\n",
       "    <tr>\n",
       "      <th>1</th>\n",
       "      <td>2</td>\n",
       "      <td>4377 48XX XXXX XXXX</td>\n",
       "      <td>437748</td>\n",
       "      <td>Visa</td>\n",
       "      <td>prosperity</td>\n",
       "      <td>2002-10-30</td>\n",
       "      <td>A</td>\n",
       "      <td>1</td>\n",
       "      <td>1</td>\n",
       "      <td>1</td>\n",
       "      <td>...</td>\n",
       "      <td>52</td>\n",
       "      <td>0</td>\n",
       "      <td>0</td>\n",
       "      <td>0</td>\n",
       "      <td>0</td>\n",
       "      <td>0</td>\n",
       "      <td>R</td>\n",
       "      <td>280854</td>\n",
       "      <td>0</td>\n",
       "      <td>950000</td>\n",
       "    </tr>\n",
       "    <tr>\n",
       "      <th>2</th>\n",
       "      <td>3</td>\n",
       "      <td>4377 48XX XXXX XXXX</td>\n",
       "      <td>437748</td>\n",
       "      <td>Visa</td>\n",
       "      <td>rewards</td>\n",
       "      <td>2013-10-05</td>\n",
       "      <td>C</td>\n",
       "      <td>0</td>\n",
       "      <td>0</td>\n",
       "      <td>0</td>\n",
       "      <td>...</td>\n",
       "      <td>23</td>\n",
       "      <td>1</td>\n",
       "      <td>0</td>\n",
       "      <td>0</td>\n",
       "      <td>0</td>\n",
       "      <td>0</td>\n",
       "      <td>R</td>\n",
       "      <td>70587</td>\n",
       "      <td>Student</td>\n",
       "      <td>210000</td>\n",
       "    </tr>\n",
       "    <tr>\n",
       "      <th>3</th>\n",
       "      <td>4</td>\n",
       "      <td>4258 06XX XXXX XXXX</td>\n",
       "      <td>425806</td>\n",
       "      <td>Visa</td>\n",
       "      <td>indianoil</td>\n",
       "      <td>1999-06-01</td>\n",
       "      <td>E</td>\n",
       "      <td>0</td>\n",
       "      <td>1</td>\n",
       "      <td>1</td>\n",
       "      <td>...</td>\n",
       "      <td>49</td>\n",
       "      <td>0</td>\n",
       "      <td>0</td>\n",
       "      <td>1</td>\n",
       "      <td>0</td>\n",
       "      <td>0</td>\n",
       "      <td>T</td>\n",
       "      <td>9156</td>\n",
       "      <td>Self Employed</td>\n",
       "      <td>80000</td>\n",
       "    </tr>\n",
       "    <tr>\n",
       "      <th>4</th>\n",
       "      <td>5</td>\n",
       "      <td>4377 48XX XXXX XXXX</td>\n",
       "      <td>437748</td>\n",
       "      <td>Visa</td>\n",
       "      <td>edge</td>\n",
       "      <td>2006-06-13</td>\n",
       "      <td>B</td>\n",
       "      <td>1</td>\n",
       "      <td>1</td>\n",
       "      <td>1</td>\n",
       "      <td>...</td>\n",
       "      <td>21</td>\n",
       "      <td>1</td>\n",
       "      <td>0</td>\n",
       "      <td>0</td>\n",
       "      <td>0</td>\n",
       "      <td>0</td>\n",
       "      <td>T</td>\n",
       "      <td>38108</td>\n",
       "      <td>Salaried</td>\n",
       "      <td>220000</td>\n",
       "    </tr>\n",
       "  </tbody>\n",
       "</table>\n",
       "<p>5 rows × 28 columns</p>\n",
       "</div>"
      ],
      "text/plain": [
       "   userid              card_no  card_bin_no Issuer   card_type  \\\n",
       "0       1  4384 39XX XXXX XXXX       438439   Visa        edge   \n",
       "1       2  4377 48XX XXXX XXXX       437748   Visa  prosperity   \n",
       "2       3  4377 48XX XXXX XXXX       437748   Visa     rewards   \n",
       "3       4  4258 06XX XXXX XXXX       425806   Visa   indianoil   \n",
       "4       5  4377 48XX XXXX XXXX       437748   Visa        edge   \n",
       "\n",
       "  card_source_date high_networth  active_30  active_60  active_90  ...  \\\n",
       "0       2019-09-29             B          0          1          1  ...   \n",
       "1       2002-10-30             A          1          1          1  ...   \n",
       "2       2013-10-05             C          0          0          0  ...   \n",
       "3       1999-06-01             E          0          1          1  ...   \n",
       "4       2006-06-13             B          1          1          1  ...   \n",
       "\n",
       "   bank_vintage  T+1_month_activity  T+2_month_activity T+3_month_activity  \\\n",
       "0            27                   0                   0                  0   \n",
       "1            52                   0                   0                  0   \n",
       "2            23                   1                   0                  0   \n",
       "3            49                   0                   0                  1   \n",
       "4            21                   1                   0                  0   \n",
       "\n",
       "   T+6_month_activity  T+12_month_activity  Transactor_revolver  \\\n",
       "0                   0                    0                    T   \n",
       "1                   0                    0                    R   \n",
       "2                   0                    0                    R   \n",
       "3                   0                    0                    T   \n",
       "4                   0                    0                    T   \n",
       "\n",
       "  avg_spends_l3m  Occupation_at_source  cc_limit  \n",
       "0          27729         Self Employed    290000  \n",
       "1         280854                     0    950000  \n",
       "2          70587               Student    210000  \n",
       "3           9156         Self Employed     80000  \n",
       "4          38108              Salaried    220000  \n",
       "\n",
       "[5 rows x 28 columns]"
      ]
     },
     "execution_count": 49,
     "metadata": {},
     "output_type": "execute_result"
    }
   ],
   "source": [
    "df.head()"
   ]
  },
  {
   "cell_type": "code",
   "execution_count": 50,
   "id": "61bc6b7b",
   "metadata": {},
   "outputs": [
    {
     "data": {
      "text/plain": [
       "(8448, 28)"
      ]
     },
     "execution_count": 50,
     "metadata": {},
     "output_type": "execute_result"
    }
   ],
   "source": [
    "df.shape"
   ]
  },
  {
   "cell_type": "code",
   "execution_count": 51,
   "id": "abce715d",
   "metadata": {},
   "outputs": [
    {
     "name": "stdout",
     "output_type": "stream",
     "text": [
      "<class 'pandas.core.frame.DataFrame'>\n",
      "RangeIndex: 8448 entries, 0 to 8447\n",
      "Data columns (total 28 columns):\n",
      " #   Column                   Non-Null Count  Dtype         \n",
      "---  ------                   --------------  -----         \n",
      " 0   userid                   8448 non-null   int64         \n",
      " 1   card_no                  8448 non-null   object        \n",
      " 2   card_bin_no              8448 non-null   int64         \n",
      " 3   Issuer                   8448 non-null   object        \n",
      " 4   card_type                8448 non-null   object        \n",
      " 5   card_source_date         8448 non-null   datetime64[ns]\n",
      " 6   high_networth            8448 non-null   object        \n",
      " 7   active_30                8448 non-null   int64         \n",
      " 8   active_60                8448 non-null   int64         \n",
      " 9   active_90                8448 non-null   int64         \n",
      " 10  cc_active30              8448 non-null   int64         \n",
      " 11  cc_active60              8448 non-null   int64         \n",
      " 12  cc_active90              8448 non-null   int64         \n",
      " 13  hotlist_flag             8448 non-null   object        \n",
      " 14  widget_products          8448 non-null   int64         \n",
      " 15  engagement_products      8448 non-null   int64         \n",
      " 16  annual_income_at_source  8448 non-null   int64         \n",
      " 17  other_bank_cc_holding    8448 non-null   object        \n",
      " 18  bank_vintage             8448 non-null   int64         \n",
      " 19  T+1_month_activity       8448 non-null   int64         \n",
      " 20  T+2_month_activity       8448 non-null   int64         \n",
      " 21  T+3_month_activity       8448 non-null   int64         \n",
      " 22  T+6_month_activity       8448 non-null   int64         \n",
      " 23  T+12_month_activity      8448 non-null   int64         \n",
      " 24  Transactor_revolver      8410 non-null   object        \n",
      " 25  avg_spends_l3m           8448 non-null   int64         \n",
      " 26  Occupation_at_source     8448 non-null   object        \n",
      " 27  cc_limit                 8448 non-null   int64         \n",
      "dtypes: datetime64[ns](1), int64(19), object(8)\n",
      "memory usage: 1.8+ MB\n"
     ]
    }
   ],
   "source": [
    "df.info()"
   ]
  },
  {
   "cell_type": "code",
   "execution_count": 52,
   "id": "c10bf2f8",
   "metadata": {},
   "outputs": [
    {
     "data": {
      "text/html": [
       "<div>\n",
       "<style scoped>\n",
       "    .dataframe tbody tr th:only-of-type {\n",
       "        vertical-align: middle;\n",
       "    }\n",
       "\n",
       "    .dataframe tbody tr th {\n",
       "        vertical-align: top;\n",
       "    }\n",
       "\n",
       "    .dataframe thead th {\n",
       "        text-align: right;\n",
       "    }\n",
       "</style>\n",
       "<table border=\"1\" class=\"dataframe\">\n",
       "  <thead>\n",
       "    <tr style=\"text-align: right;\">\n",
       "      <th></th>\n",
       "      <th>userid</th>\n",
       "      <th>card_no</th>\n",
       "      <th>card_bin_no</th>\n",
       "      <th>Issuer</th>\n",
       "      <th>card_type</th>\n",
       "      <th>card_source_date</th>\n",
       "      <th>high_networth</th>\n",
       "      <th>active_30</th>\n",
       "      <th>active_60</th>\n",
       "      <th>active_90</th>\n",
       "      <th>...</th>\n",
       "      <th>bank_vintage</th>\n",
       "      <th>T+1_month_activity</th>\n",
       "      <th>T+2_month_activity</th>\n",
       "      <th>T+3_month_activity</th>\n",
       "      <th>T+6_month_activity</th>\n",
       "      <th>T+12_month_activity</th>\n",
       "      <th>Transactor_revolver</th>\n",
       "      <th>avg_spends_l3m</th>\n",
       "      <th>Occupation_at_source</th>\n",
       "      <th>cc_limit</th>\n",
       "    </tr>\n",
       "  </thead>\n",
       "  <tbody>\n",
       "  </tbody>\n",
       "</table>\n",
       "<p>0 rows × 28 columns</p>\n",
       "</div>"
      ],
      "text/plain": [
       "Empty DataFrame\n",
       "Columns: [userid, card_no, card_bin_no, Issuer, card_type, card_source_date, high_networth, active_30, active_60, active_90, cc_active30, cc_active60, cc_active90, hotlist_flag, widget_products, engagement_products, annual_income_at_source, other_bank_cc_holding, bank_vintage, T+1_month_activity, T+2_month_activity, T+3_month_activity, T+6_month_activity, T+12_month_activity, Transactor_revolver, avg_spends_l3m, Occupation_at_source, cc_limit]\n",
       "Index: []\n",
       "\n",
       "[0 rows x 28 columns]"
      ]
     },
     "execution_count": 52,
     "metadata": {},
     "output_type": "execute_result"
    }
   ],
   "source": [
    "dups = df.duplicated()\n",
    "df[dups]"
   ]
  },
  {
   "cell_type": "code",
   "execution_count": 53,
   "id": "67d082e6",
   "metadata": {},
   "outputs": [
    {
     "data": {
      "text/plain": [
       "0    5978\n",
       "1    2470\n",
       "Name: active_30, dtype: int64"
      ]
     },
     "execution_count": 53,
     "metadata": {},
     "output_type": "execute_result"
    }
   ],
   "source": [
    "df[\"active_30\"].value_counts() # change to object"
   ]
  },
  {
   "cell_type": "code",
   "execution_count": 54,
   "id": "6ffc5adc",
   "metadata": {},
   "outputs": [
    {
     "data": {
      "text/plain": [
       "0    4268\n",
       "1    4180\n",
       "Name: active_60, dtype: int64"
      ]
     },
     "execution_count": 54,
     "metadata": {},
     "output_type": "execute_result"
    }
   ],
   "source": [
    "df[\"active_60\"].value_counts()"
   ]
  },
  {
   "cell_type": "code",
   "execution_count": 55,
   "id": "75f5de2d",
   "metadata": {},
   "outputs": [
    {
     "data": {
      "text/plain": [
       "1    5424\n",
       "0    3024\n",
       "Name: active_90, dtype: int64"
      ]
     },
     "execution_count": 55,
     "metadata": {},
     "output_type": "execute_result"
    }
   ],
   "source": [
    "df[\"active_90\"].value_counts()"
   ]
  },
  {
   "cell_type": "code",
   "execution_count": 56,
   "id": "1f09147b",
   "metadata": {},
   "outputs": [
    {
     "data": {
      "text/plain": [
       "0    6048\n",
       "1    2400\n",
       "Name: cc_active30, dtype: int64"
      ]
     },
     "execution_count": 56,
     "metadata": {},
     "output_type": "execute_result"
    }
   ],
   "source": [
    "df[\"cc_active30\"].value_counts()"
   ]
  },
  {
   "cell_type": "code",
   "execution_count": 57,
   "id": "7a326df9",
   "metadata": {},
   "outputs": [
    {
     "data": {
      "text/plain": [
       "0    4355\n",
       "1    4093\n",
       "Name: cc_active60, dtype: int64"
      ]
     },
     "execution_count": 57,
     "metadata": {},
     "output_type": "execute_result"
    }
   ],
   "source": [
    "df[\"cc_active60\"].value_counts()"
   ]
  },
  {
   "cell_type": "code",
   "execution_count": 58,
   "id": "a35d0f2c",
   "metadata": {},
   "outputs": [
    {
     "data": {
      "text/plain": [
       "1    5342\n",
       "0    3106\n",
       "Name: cc_active90, dtype: int64"
      ]
     },
     "execution_count": 58,
     "metadata": {},
     "output_type": "execute_result"
    }
   ],
   "source": [
    "df[\"cc_active90\"].value_counts()"
   ]
  },
  {
   "cell_type": "code",
   "execution_count": 59,
   "id": "295523ad",
   "metadata": {},
   "outputs": [
    {
     "data": {
      "text/plain": [
       "7    1132\n",
       "4    1117\n",
       "5    1115\n",
       "6    1062\n",
       "3    1060\n",
       "2    1010\n",
       "1     997\n",
       "0     955\n",
       "Name: widget_products, dtype: int64"
      ]
     },
     "execution_count": 59,
     "metadata": {},
     "output_type": "execute_result"
    }
   ],
   "source": [
    "df[\"widget_products\"].value_counts()"
   ]
  },
  {
   "cell_type": "code",
   "execution_count": 60,
   "id": "9476dd6f",
   "metadata": {},
   "outputs": [
    {
     "data": {
      "text/plain": [
       "4    1010\n",
       "3     966\n",
       "1     950\n",
       "8     949\n",
       "5     940\n",
       "0     939\n",
       "6     926\n",
       "7     889\n",
       "2     879\n",
       "Name: engagement_products, dtype: int64"
      ]
     },
     "execution_count": 60,
     "metadata": {},
     "output_type": "execute_result"
    }
   ],
   "source": [
    "df[\"engagement_products\"].value_counts()"
   ]
  },
  {
   "cell_type": "code",
   "execution_count": 61,
   "id": "5bd9db15",
   "metadata": {},
   "outputs": [
    {
     "data": {
      "text/plain": [
       "userid                      0\n",
       "card_no                     0\n",
       "card_bin_no                 0\n",
       "Issuer                      0\n",
       "card_type                   0\n",
       "card_source_date            0\n",
       "high_networth               0\n",
       "active_30                   0\n",
       "active_60                   0\n",
       "active_90                   0\n",
       "cc_active30                 0\n",
       "cc_active60                 0\n",
       "cc_active90                 0\n",
       "hotlist_flag                0\n",
       "widget_products             0\n",
       "engagement_products         0\n",
       "annual_income_at_source     0\n",
       "other_bank_cc_holding       0\n",
       "bank_vintage                0\n",
       "T+1_month_activity          0\n",
       "T+2_month_activity          0\n",
       "T+3_month_activity          0\n",
       "T+6_month_activity          0\n",
       "T+12_month_activity         0\n",
       "Transactor_revolver        38\n",
       "avg_spends_l3m              0\n",
       "Occupation_at_source        0\n",
       "cc_limit                    0\n",
       "dtype: int64"
      ]
     },
     "execution_count": 61,
     "metadata": {},
     "output_type": "execute_result"
    }
   ],
   "source": [
    "df.isnull().sum()"
   ]
  },
  {
   "cell_type": "code",
   "execution_count": 62,
   "id": "fe8f0305",
   "metadata": {},
   "outputs": [],
   "source": [
    "df[\"active_30\"] = df[\"active_30\"].astype(\"object\")\n",
    "df[\"active_60\"] = df[\"active_60\"].astype(\"object\")\n",
    "df[\"active_90\"] = df[\"active_90\"].astype(\"object\")\n",
    "df[\"cc_active30\"] = df[\"cc_active30\"].astype(\"object\")\n",
    "df[\"cc_active60\"] = df[\"cc_active60\"].astype(\"object\")\n",
    "df[\"cc_active90\"] = df[\"cc_active90\"].astype(\"object\")\n",
    "df[\"widget_products\"] = df[\"widget_products\"].astype(\"object\")\n",
    "df[\"engagement_products\"] = df[\"engagement_products\"].astype(\"object\")\n",
    "df[\"T+1_month_activity\"] = df[\"T+1_month_activity\"].astype(\"object\")\n",
    "df[\"T+2_month_activity\"] = df[\"T+2_month_activity\"].astype(\"object\")\n",
    "df[\"T+3_month_activity\"] = df[\"T+3_month_activity\"].astype(\"object\")\n",
    "df[\"T+6_month_activity\"] = df[\"T+6_month_activity\"].astype(\"object\")\n",
    "df[\"T+12_month_activity\"] = df[\"T+12_month_activity\"].astype(\"object\")\n",
    "df[\"card_bin_no\"] = df[\"card_bin_no\"].astype(\"object\")"
   ]
  },
  {
   "cell_type": "code",
   "execution_count": 63,
   "id": "3b222bac",
   "metadata": {},
   "outputs": [
    {
     "name": "stdout",
     "output_type": "stream",
     "text": [
      "<class 'pandas.core.frame.DataFrame'>\n",
      "RangeIndex: 8448 entries, 0 to 8447\n",
      "Data columns (total 28 columns):\n",
      " #   Column                   Non-Null Count  Dtype         \n",
      "---  ------                   --------------  -----         \n",
      " 0   userid                   8448 non-null   int64         \n",
      " 1   card_no                  8448 non-null   object        \n",
      " 2   card_bin_no              8448 non-null   object        \n",
      " 3   Issuer                   8448 non-null   object        \n",
      " 4   card_type                8448 non-null   object        \n",
      " 5   card_source_date         8448 non-null   datetime64[ns]\n",
      " 6   high_networth            8448 non-null   object        \n",
      " 7   active_30                8448 non-null   object        \n",
      " 8   active_60                8448 non-null   object        \n",
      " 9   active_90                8448 non-null   object        \n",
      " 10  cc_active30              8448 non-null   object        \n",
      " 11  cc_active60              8448 non-null   object        \n",
      " 12  cc_active90              8448 non-null   object        \n",
      " 13  hotlist_flag             8448 non-null   object        \n",
      " 14  widget_products          8448 non-null   object        \n",
      " 15  engagement_products      8448 non-null   object        \n",
      " 16  annual_income_at_source  8448 non-null   int64         \n",
      " 17  other_bank_cc_holding    8448 non-null   object        \n",
      " 18  bank_vintage             8448 non-null   int64         \n",
      " 19  T+1_month_activity       8448 non-null   object        \n",
      " 20  T+2_month_activity       8448 non-null   object        \n",
      " 21  T+3_month_activity       8448 non-null   object        \n",
      " 22  T+6_month_activity       8448 non-null   object        \n",
      " 23  T+12_month_activity      8448 non-null   object        \n",
      " 24  Transactor_revolver      8410 non-null   object        \n",
      " 25  avg_spends_l3m           8448 non-null   int64         \n",
      " 26  Occupation_at_source     8448 non-null   object        \n",
      " 27  cc_limit                 8448 non-null   int64         \n",
      "dtypes: datetime64[ns](1), int64(5), object(22)\n",
      "memory usage: 1.8+ MB\n"
     ]
    }
   ],
   "source": [
    "df.info()"
   ]
  },
  {
   "cell_type": "code",
   "execution_count": 64,
   "id": "0ac4a217",
   "metadata": {},
   "outputs": [
    {
     "data": {
      "text/plain": [
       "T    7115\n",
       "R    1295\n",
       "Name: Transactor_revolver, dtype: int64"
      ]
     },
     "execution_count": 64,
     "metadata": {},
     "output_type": "execute_result"
    }
   ],
   "source": [
    "df[\"Transactor_revolver\"].value_counts()"
   ]
  },
  {
   "cell_type": "code",
   "execution_count": 65,
   "id": "74379820",
   "metadata": {},
   "outputs": [
    {
     "data": {
      "text/plain": [
       "array(['T', 'R', nan], dtype=object)"
      ]
     },
     "execution_count": 65,
     "metadata": {},
     "output_type": "execute_result"
    }
   ],
   "source": [
    "df[\"Transactor_revolver\"].unique()"
   ]
  },
  {
   "cell_type": "code",
   "execution_count": 66,
   "id": "11c080f2",
   "metadata": {},
   "outputs": [],
   "source": [
    "df[\"Transactor_revolver\"].replace(np.nan,df[\"Transactor_revolver\"].mode()[0],inplace=True)"
   ]
  },
  {
   "cell_type": "code",
   "execution_count": 67,
   "id": "4d995ec5",
   "metadata": {},
   "outputs": [
    {
     "data": {
      "text/plain": [
       "T    7153\n",
       "R    1295\n",
       "Name: Transactor_revolver, dtype: int64"
      ]
     },
     "execution_count": 67,
     "metadata": {},
     "output_type": "execute_result"
    }
   ],
   "source": [
    "df[\"Transactor_revolver\"].value_counts()"
   ]
  },
  {
   "cell_type": "code",
   "execution_count": 68,
   "id": "53089c8f",
   "metadata": {},
   "outputs": [
    {
     "data": {
      "text/plain": [
       "array(['T', 'R'], dtype=object)"
      ]
     },
     "execution_count": 68,
     "metadata": {},
     "output_type": "execute_result"
    }
   ],
   "source": [
    "df[\"Transactor_revolver\"].unique()"
   ]
  },
  {
   "cell_type": "code",
   "execution_count": 69,
   "id": "257d4dce",
   "metadata": {},
   "outputs": [
    {
     "data": {
      "text/plain": [
       "Salaried         3918\n",
       "Self Employed    2175\n",
       "Retired          1089\n",
       "Student           621\n",
       "Housewife         384\n",
       "0                 261\n",
       "Name: Occupation_at_source, dtype: int64"
      ]
     },
     "execution_count": 69,
     "metadata": {},
     "output_type": "execute_result"
    }
   ],
   "source": [
    "df[\"Occupation_at_source\"].value_counts()"
   ]
  },
  {
   "cell_type": "code",
   "execution_count": 70,
   "id": "401e51ba",
   "metadata": {},
   "outputs": [],
   "source": [
    "df[\"Occupation_at_source\"] = np.where(df[\"Occupation_at_source\"] == 0, \"Not specified\", df[\"Occupation_at_source\"])"
   ]
  },
  {
   "cell_type": "code",
   "execution_count": 71,
   "id": "51cf6728",
   "metadata": {},
   "outputs": [
    {
     "data": {
      "text/plain": [
       "Salaried         3918\n",
       "Self Employed    2175\n",
       "Retired          1089\n",
       "Student           621\n",
       "Housewife         384\n",
       "Not specified     261\n",
       "Name: Occupation_at_source, dtype: int64"
      ]
     },
     "execution_count": 71,
     "metadata": {},
     "output_type": "execute_result"
    }
   ],
   "source": [
    "df[\"Occupation_at_source\"].value_counts()"
   ]
  },
  {
   "cell_type": "code",
   "execution_count": 72,
   "id": "3b781301",
   "metadata": {},
   "outputs": [
    {
     "data": {
      "text/plain": [
       "userid                     0\n",
       "card_no                    0\n",
       "card_bin_no                0\n",
       "Issuer                     0\n",
       "card_type                  0\n",
       "card_source_date           0\n",
       "high_networth              0\n",
       "active_30                  0\n",
       "active_60                  0\n",
       "active_90                  0\n",
       "cc_active30                0\n",
       "cc_active60                0\n",
       "cc_active90                0\n",
       "hotlist_flag               0\n",
       "widget_products            0\n",
       "engagement_products        0\n",
       "annual_income_at_source    0\n",
       "other_bank_cc_holding      0\n",
       "bank_vintage               0\n",
       "T+1_month_activity         0\n",
       "T+2_month_activity         0\n",
       "T+3_month_activity         0\n",
       "T+6_month_activity         0\n",
       "T+12_month_activity        0\n",
       "Transactor_revolver        0\n",
       "avg_spends_l3m             0\n",
       "Occupation_at_source       0\n",
       "cc_limit                   0\n",
       "dtype: int64"
      ]
     },
     "execution_count": 72,
     "metadata": {},
     "output_type": "execute_result"
    }
   ],
   "source": [
    "df.isnull().sum()"
   ]
  },
  {
   "cell_type": "code",
   "execution_count": 73,
   "id": "d54dd027",
   "metadata": {},
   "outputs": [],
   "source": [
    "df.drop(\"userid\",axis=1,inplace=True)"
   ]
  },
  {
   "cell_type": "code",
   "execution_count": 74,
   "id": "445d7538",
   "metadata": {},
   "outputs": [],
   "source": [
    "num = df.dtypes[df.dtypes == \"int64\"].index"
   ]
  },
  {
   "cell_type": "code",
   "execution_count": 75,
   "id": "2c0e8fe1",
   "metadata": {},
   "outputs": [
    {
     "data": {
      "text/plain": [
       "Index(['annual_income_at_source', 'bank_vintage', 'avg_spends_l3m',\n",
       "       'cc_limit'],\n",
       "      dtype='object')"
      ]
     },
     "execution_count": 75,
     "metadata": {},
     "output_type": "execute_result"
    }
   ],
   "source": [
    "num"
   ]
  },
  {
   "cell_type": "code",
   "execution_count": 76,
   "id": "22c7fbed",
   "metadata": {},
   "outputs": [
    {
     "data": {
      "image/png": "[encoded data removed]",
      "text/plain": [
       "<Figure size 1500x1500 with 4 Axes>"
      ]
     },
     "metadata": {},
     "output_type": "display_data"
    }
   ],
   "source": [
    "fig,axes = plt.subplots(2,2,figsize=(15,15))\n",
    "for i,j in zip(num,axes.flatten()):\n",
    "    sns.boxplot(df,x=i,ax=j,color=\"Grey\",flierprops={\"marker\":\"o\", \"markersize\":\"7\",\"markerfacecolor\":\"red\"})\n",
    "    j.set_title(f\"Boxplot: {i},Mean : {round(df[i].mean(),2)}\",fontsize=10,color=\"Blue\")\n",
    "    for p in j.patches:\n",
    "        j.annotate(text = f\"Median:{round(df[i].median(),2)}\",xy = (df[i].median(),0.35),fontsize=15,color=\"Orange\",weight='bold')"
   ]
  },
  {
   "cell_type": "code",
   "execution_count": 77,
   "id": "980be8dc",
   "metadata": {},
   "outputs": [
    {
     "data": {
      "text/html": [
       "<div>\n",
       "<style scoped>\n",
       "    .dataframe tbody tr th:only-of-type {\n",
       "        vertical-align: middle;\n",
       "    }\n",
       "\n",
       "    .dataframe tbody tr th {\n",
       "        vertical-align: top;\n",
       "    }\n",
       "\n",
       "    .dataframe thead th {\n",
       "        text-align: right;\n",
       "    }\n",
       "</style>\n",
       "<table border=\"1\" class=\"dataframe\">\n",
       "  <thead>\n",
       "    <tr style=\"text-align: right;\">\n",
       "      <th></th>\n",
       "      <th>count</th>\n",
       "      <th>mean</th>\n",
       "      <th>std</th>\n",
       "      <th>min</th>\n",
       "      <th>25%</th>\n",
       "      <th>50%</th>\n",
       "      <th>75%</th>\n",
       "      <th>max</th>\n",
       "    </tr>\n",
       "  </thead>\n",
       "  <tbody>\n",
       "    <tr>\n",
       "      <th>annual_income_at_source</th>\n",
       "      <td>8448.00</td>\n",
       "      <td>1674594.74</td>\n",
       "      <td>1064307.09</td>\n",
       "      <td>200095.00</td>\n",
       "      <td>1061104.00</td>\n",
       "      <td>1372133.50</td>\n",
       "      <td>1881734.25</td>\n",
       "      <td>4999508.00</td>\n",
       "    </tr>\n",
       "    <tr>\n",
       "      <th>bank_vintage</th>\n",
       "      <td>8448.00</td>\n",
       "      <td>33.16</td>\n",
       "      <td>15.87</td>\n",
       "      <td>6.00</td>\n",
       "      <td>19.00</td>\n",
       "      <td>33.00</td>\n",
       "      <td>47.00</td>\n",
       "      <td>60.00</td>\n",
       "    </tr>\n",
       "    <tr>\n",
       "      <th>avg_spends_l3m</th>\n",
       "      <td>8448.00</td>\n",
       "      <td>49527.37</td>\n",
       "      <td>46244.95</td>\n",
       "      <td>0.00</td>\n",
       "      <td>17110.00</td>\n",
       "      <td>37943.00</td>\n",
       "      <td>66095.75</td>\n",
       "      <td>289292.00</td>\n",
       "    </tr>\n",
       "    <tr>\n",
       "      <th>cc_limit</th>\n",
       "      <td>8448.00</td>\n",
       "      <td>251706.91</td>\n",
       "      <td>229114.86</td>\n",
       "      <td>0.00</td>\n",
       "      <td>90000.00</td>\n",
       "      <td>150000.00</td>\n",
       "      <td>350000.00</td>\n",
       "      <td>990000.00</td>\n",
       "    </tr>\n",
       "  </tbody>\n",
       "</table>\n",
       "</div>"
      ],
      "text/plain": [
       "                          count       mean        std       min        25%  \\\n",
       "annual_income_at_source 8448.00 1674594.74 1064307.09 200095.00 1061104.00   \n",
       "bank_vintage            8448.00      33.16      15.87      6.00      19.00   \n",
       "avg_spends_l3m          8448.00   49527.37   46244.95      0.00   17110.00   \n",
       "cc_limit                8448.00  251706.91  229114.86      0.00   90000.00   \n",
       "\n",
       "                               50%        75%        max  \n",
       "annual_income_at_source 1372133.50 1881734.25 4999508.00  \n",
       "bank_vintage                 33.00      47.00      60.00  \n",
       "avg_spends_l3m            37943.00   66095.75  289292.00  \n",
       "cc_limit                 150000.00  350000.00  990000.00  "
      ]
     },
     "execution_count": 77,
     "metadata": {},
     "output_type": "execute_result"
    }
   ],
   "source": [
    "df.describe().T"
   ]
  },
  {
   "cell_type": "markdown",
   "id": "70f6df89",
   "metadata": {},
   "source": [
    "<font color = \"blue\">\n",
    "<font size = 5>\n",
    "Analyse the dataset and list down the top 5 important variables, along with the business justifications."
   ]
  },
  {
   "cell_type": "markdown",
   "id": "523dd617",
   "metadata": {},
   "source": [
    "### The bank will make a profit only through the customers that show higher intent towards a recommended credit card. (Higher intent means consumers would want to use the card and hence not be attrite.)\n",
    "### To reduce the attrition rate, we have to find the customers who will likely to have low intent or attrite due to the Non payment of credit."
   ]
  },
  {
   "cell_type": "markdown",
   "id": "f351453e",
   "metadata": {},
   "source": [
    "#### The Variables card_no, card_bin_no, card_source_date, card_type and Issuer wont have any valuable information.\n",
    "#### active_30,60 & 90 are related to the account activity and widget product and engagement products are also not related to credit card.\n",
    "#### As we are focusing on the credit card attrition, annual_income_at_source, other_bank_cc_holding, bank_vintage, T+1_month_activity, T+2_month_activity, T+3_month_activity, T+6_month_activity, T+12_month_activity, Transactor_revolver, avg_spends_l3m, Occupation_at_source, cc_limit,cc_active30, cc_active60, cc_active90 can be useful as they are related to credit card."
   ]
  },
  {
   "cell_type": "code",
   "execution_count": 78,
   "id": "8e4f0962",
   "metadata": {},
   "outputs": [
    {
     "data": {
      "image/png": "[encoded data removed]",
      "text/plain": [
       "<Figure size 1500x1500 with 4 Axes>"
      ]
     },
     "metadata": {},
     "output_type": "display_data"
    }
   ],
   "source": [
    "fig,axes = plt.subplots(2,2,figsize=(15,15))\n",
    "for i,j in zip(num,axes.flatten()):\n",
    "    sns.histplot(df,x=i,ax=j,kde=True)\n",
    "    j.set_title(f\"Histplot: {i} ,Skewness : {round(df[i].skew(),2)}\",fontsize=15,weight='bold',color=\"Blue\")"
   ]
  },
  {
   "cell_type": "markdown",
   "id": "915d3631",
   "metadata": {},
   "source": [
    "#### The Average spending limit of the customers are less than 80000 dollars and 505 of the customers annual income is less than 1372133 dollars. Most of the customers have the credit limit of 100000 dollars."
   ]
  },
  {
   "cell_type": "code",
   "execution_count": 79,
   "id": "3dd678d1",
   "metadata": {},
   "outputs": [
    {
     "data": {
      "image/png": "[encoded data removed]",
      "text/plain": [
       "<Figure size 1000x500 with 1 Axes>"
      ]
     },
     "metadata": {},
     "output_type": "display_data"
    }
   ],
   "source": [
    "fig,axes = plt.subplots(figsize=(10,5))\n",
    "sns.countplot(df,x=\"hotlist_flag\")\n",
    "axes.set_title(\"Hostlist flag\",fontsize=15,color=\"Blue\")\n",
    "for p in axes.patches:\n",
    "        axes.annotate(text = f\"{round(p.get_height()/len(df)*100,2)}%\",xy = (p.get_x(),p.get_height()+8),fontsize=10,weight='bold',color=\"Red\")"
   ]
  },
  {
   "cell_type": "code",
   "execution_count": 80,
   "id": "4ac5e456",
   "metadata": {},
   "outputs": [
    {
     "data": {
      "text/plain": [
       "0.49802014653737264"
      ]
     },
     "execution_count": 80,
     "metadata": {},
     "output_type": "execute_result"
    }
   ],
   "source": [
    "df[df[\"hotlist_flag\"]==\"Y\"][\"cc_limit\"].sum()/df[\"cc_limit\"].sum()*100"
   ]
  },
  {
   "cell_type": "markdown",
   "id": "17882b16",
   "metadata": {},
   "source": [
    "#### The hotlisted credit card is only 0.45% and 0.5% of the credit limit is unused."
   ]
  },
  {
   "cell_type": "code",
   "execution_count": 81,
   "id": "69ce5109",
   "metadata": {},
   "outputs": [],
   "source": [
    "df[\"Payback_capacity\"] = df[\"annual_income_at_source\"] > df[\"cc_limit\"]"
   ]
  },
  {
   "cell_type": "code",
   "execution_count": 82,
   "id": "85b6cf2c",
   "metadata": {},
   "outputs": [
    {
     "data": {
      "text/plain": [
       "True   1.00\n",
       "Name: Payback_capacity, dtype: float64"
      ]
     },
     "execution_count": 82,
     "metadata": {},
     "output_type": "execute_result"
    }
   ],
   "source": [
    "df[\"Payback_capacity\"].value_counts(normalize=True)"
   ]
  },
  {
   "cell_type": "markdown",
   "id": "fe975e38",
   "metadata": {},
   "source": [
    "#### This is actually good for banks as the customers have payback capacity if they fullly utilise the credit limit."
   ]
  },
  {
   "cell_type": "code",
   "execution_count": 83,
   "id": "751c491f",
   "metadata": {},
   "outputs": [],
   "source": [
    "for i in range(len(df)):\n",
    "    if ((df.loc[i,\"cc_limit\"] - df.loc[i,\"avg_spends_l3m\"])<0):\n",
    "        df.loc[i,\"Full_utilisation\"] = \"Over Utilize\"\n",
    "    elif ((df.loc[i,\"cc_limit\"] - df.loc[i,\"avg_spends_l3m\"])==0):\n",
    "        df.loc[i,\"Full_utilisation\"] = \"Full Utilize\"\n",
    "    else:\n",
    "        df.loc[i,\"Full_utilisation\"] = \"Under Utilize\""
   ]
  },
  {
   "cell_type": "code",
   "execution_count": 84,
   "id": "b394505c",
   "metadata": {},
   "outputs": [
    {
     "data": {
      "text/plain": [
       "Under Utilize   0.99\n",
       "Over Utilize    0.01\n",
       "Full Utilize    0.00\n",
       "Name: Full_utilisation, dtype: float64"
      ]
     },
     "execution_count": 84,
     "metadata": {},
     "output_type": "execute_result"
    }
   ],
   "source": [
    "df[\"Full_utilisation\"].value_counts(normalize=True)"
   ]
  },
  {
   "cell_type": "markdown",
   "id": "95e9d9eb",
   "metadata": {},
   "source": [
    "#### 0.01% of the customers is over utilizing the credit limit. This is good as the bank can charge interest. Still more customers have to fully utilize the credit limit."
   ]
  },
  {
   "cell_type": "code",
   "execution_count": 85,
   "id": "1204ad59",
   "metadata": {},
   "outputs": [],
   "source": [
    "df[\"Unused_limit\"] = df[\"cc_limit\"] - df[\"avg_spends_l3m\"]"
   ]
  },
  {
   "cell_type": "code",
   "execution_count": 86,
   "id": "1d905632",
   "metadata": {},
   "outputs": [
    {
     "data": {
      "text/plain": [
       "1708012816"
      ]
     },
     "execution_count": 86,
     "metadata": {},
     "output_type": "execute_result"
    }
   ],
   "source": [
    "df[\"Unused_limit\"].sum()"
   ]
  },
  {
   "cell_type": "code",
   "execution_count": 87,
   "id": "ce6f4fec",
   "metadata": {},
   "outputs": [
    {
     "data": {
      "text/plain": [
       "80.32339876411999"
      ]
     },
     "execution_count": 87,
     "metadata": {},
     "output_type": "execute_result"
    }
   ],
   "source": [
    "df[\"Unused_limit\"].sum()/df[\"cc_limit\"].sum()*100"
   ]
  },
  {
   "cell_type": "markdown",
   "id": "c3eb284b",
   "metadata": {},
   "source": [
    "#### 99% of the customers is not fully utilizing the credit card limit. 80% of the overall credit limit is not utilised. If it is utilised the bank can charges interest on those unused limit and it will generate profit."
   ]
  },
  {
   "cell_type": "code",
   "execution_count": 88,
   "id": "b9fd6352",
   "metadata": {},
   "outputs": [
    {
     "data": {
      "text/plain": [
       "Salaried        0.46\n",
       "Self Employed   0.26\n",
       "Retired         0.13\n",
       "Student         0.07\n",
       "Housewife       0.05\n",
       "Not specified   0.03\n",
       "Name: Occupation_at_source, dtype: float64"
      ]
     },
     "execution_count": 88,
     "metadata": {},
     "output_type": "execute_result"
    }
   ],
   "source": [
    "df[\"Occupation_at_source\"].value_counts(normalize=True)"
   ]
  },
  {
   "cell_type": "code",
   "execution_count": 89,
   "id": "84bdcbf7",
   "metadata": {},
   "outputs": [
    {
     "data": {
      "text/html": [
       "<div>\n",
       "<style scoped>\n",
       "    .dataframe tbody tr th:only-of-type {\n",
       "        vertical-align: middle;\n",
       "    }\n",
       "\n",
       "    .dataframe tbody tr th {\n",
       "        vertical-align: top;\n",
       "    }\n",
       "\n",
       "    .dataframe thead th {\n",
       "        text-align: right;\n",
       "    }\n",
       "</style>\n",
       "<table border=\"1\" class=\"dataframe\">\n",
       "  <thead>\n",
       "    <tr style=\"text-align: right;\">\n",
       "      <th></th>\n",
       "      <th>Unused_limit</th>\n",
       "      <th>avg_spends_l3m</th>\n",
       "    </tr>\n",
       "    <tr>\n",
       "      <th>Occupation_at_source</th>\n",
       "      <th></th>\n",
       "      <th></th>\n",
       "    </tr>\n",
       "  </thead>\n",
       "  <tbody>\n",
       "    <tr>\n",
       "      <th>Salaried</th>\n",
       "      <td>735095769</td>\n",
       "      <td>191554231</td>\n",
       "    </tr>\n",
       "    <tr>\n",
       "      <th>Self Employed</th>\n",
       "      <td>572065837</td>\n",
       "      <td>127884163</td>\n",
       "    </tr>\n",
       "    <tr>\n",
       "      <th>Not specified</th>\n",
       "      <td>169343952</td>\n",
       "      <td>26636048</td>\n",
       "    </tr>\n",
       "    <tr>\n",
       "      <th>Student</th>\n",
       "      <td>132136855</td>\n",
       "      <td>30683145</td>\n",
       "    </tr>\n",
       "    <tr>\n",
       "      <th>Retired</th>\n",
       "      <td>73381977</td>\n",
       "      <td>31118023</td>\n",
       "    </tr>\n",
       "    <tr>\n",
       "      <th>Housewife</th>\n",
       "      <td>25988426</td>\n",
       "      <td>10531574</td>\n",
       "    </tr>\n",
       "  </tbody>\n",
       "</table>\n",
       "</div>"
      ],
      "text/plain": [
       "                      Unused_limit  avg_spends_l3m\n",
       "Occupation_at_source                              \n",
       "Salaried                 735095769       191554231\n",
       "Self Employed            572065837       127884163\n",
       "Not specified            169343952        26636048\n",
       "Student                  132136855        30683145\n",
       "Retired                   73381977        31118023\n",
       "Housewife                 25988426        10531574"
      ]
     },
     "execution_count": 89,
     "metadata": {},
     "output_type": "execute_result"
    }
   ],
   "source": [
    "pd.pivot_table(df,index=\"Occupation_at_source\",values=[\"avg_spends_l3m\",\"Unused_limit\"],aggfunc=np.sum).sort_values(by=\"Unused_limit\",ascending=False)"
   ]
  },
  {
   "cell_type": "markdown",
   "id": "14841c3d",
   "metadata": {},
   "source": [
    "#### 70% of the people who has credit card is salaried and self employed. Unused limit is also high in these set of customers."
   ]
  },
  {
   "cell_type": "code",
   "execution_count": 90,
   "id": "66f21d3f",
   "metadata": {},
   "outputs": [
    {
     "data": {
      "text/plain": [
       "36.766098484848484"
      ]
     },
     "execution_count": 90,
     "metadata": {},
     "output_type": "execute_result"
    }
   ],
   "source": [
    "df[(df[\"cc_active30\"]==0) & (df[\"cc_active60\"]==0) & (df[\"cc_active90\"]==0)].shape[0]/len(df)*100"
   ]
  },
  {
   "cell_type": "code",
   "execution_count": 91,
   "id": "bd51a93b",
   "metadata": {},
   "outputs": [
    {
     "data": {
      "text/plain": [
       "Salaried        0.40\n",
       "Self Employed   0.21\n",
       "Student         0.14\n",
       "Retired         0.13\n",
       "Housewife       0.09\n",
       "Not specified   0.03\n",
       "Name: Occupation_at_source, dtype: float64"
      ]
     },
     "execution_count": 91,
     "metadata": {},
     "output_type": "execute_result"
    }
   ],
   "source": [
    "df[(df[\"cc_active30\"]==0) & (df[\"cc_active60\"]==0) & (df[\"cc_active90\"]==0)][\"Occupation_at_source\"].value_counts(normalize=True)"
   ]
  },
  {
   "cell_type": "markdown",
   "id": "0e3075de",
   "metadata": {},
   "source": [
    "#### 36% of the customers have not used the credit card for the past 90 days.These 36% has low intent on using the credit card. The probability of attrition for these customers is high. Most of them belong to the salaried profession. "
   ]
  },
  {
   "cell_type": "markdown",
   "id": "94f6694f",
   "metadata": {},
   "source": [
    "### The Top 5 Variables important to business to find a pattern on the attrition rate to focus on that segment to improve the credit card services are:\n",
    "#### annual_income_at_source\n",
    "#### avg_spends_l3m\n",
    "#### cc_limit\n",
    "#### cc_active\n",
    "#### Occupation_at_source\n",
    "### These are the top 5 variables but to find the pattern, these has been be analyzed in relationship with other variables to gives us inference about the data."
   ]
  },
  {
   "cell_type": "code",
   "execution_count": null,
   "id": "492d883b",
   "metadata": {},
   "outputs": [],
   "source": []
  }
 ],
 "metadata": {
  "kernelspec": {
   "display_name": "Python 3 (ipykernel)",
   "language": "python",
   "name": "python3"
  },
  "language_info": {
   "codemirror_mode": {
    "name": "ipython",
    "version": 3
   },
   "file_extension": ".py",
   "mimetype": "text/x-python",
   "name": "python",
   "nbconvert_exporter": "python",
   "pygments_lexer": "ipython3",
   "version": "3.10.9"
  }
 },
 "nbformat": 4,
 "nbformat_minor": 5
}
